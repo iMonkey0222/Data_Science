{
  "cells": [
    {
      "cell_type": "markdown",
      "source": [
        "# 个人贷款违约预测\n",
        "## 业务理解\n",
        "\n",
        "* **银行贷款业务的核心目标**：降低客户贷款逾期率。\n",
        "* **项目目的**：预测目前处于贷款期间的客户是否会违约\n",
        "* **贷款违约的原因分析**：违约收益>违约成本\n",
        "\t1.**还款意愿不足**：违约收益大于违约成本。违约收益通常为贷款额度，是固定的，而违约成本是动态的，会基于客户的经济收入、社会地位等因素有所差异和波动。\n",
        "\t\t涉及业务阶段：贷前审核\n",
        "\t2.**还款能力不足**：经济条件恶化，如消费欲望超出了当前经济能力、生活状态不稳定，造成偿还能力不足。\n",
        "\t\t涉及业务阶段：贷后监控\n",
        "* 确定**监测贷款违约的重要指标**：违约成本\n",
        "\t*\t关于违约成本的衍生变量：\n",
        "\t\t* 一级衍生变量：资产余额\n",
        "\t\t* 二级衍生变量：资产余额均值(mean)，资产余额波动率(std)\n",
        "\t\t* 三级衍生变量：资产余额变异系数（std/mean）:可表示客户的生活状态稳定性"
      ],
      "metadata": {
        "id": "272B95F6425F4BA980EFD5DECB629E01",
        "jupyter": {},
        "tags": [],
        "slideshow": {
          "slide_type": "slide"
        },
        "trusted": true,
        "mdEditEnable": false
      }
    },
    {
      "cell_type": "markdown",
      "source": [
        "\n",
        "## 数据理解\n",
        "共有8张表：\n",
        "1. 信用卡：card\n",
        "1. 客户信息表：clients\n",
        "1. 账户表：accounts\n",
        "1. 贷款表：loans\n",
        "1. 人口地区统计表：district\n",
        "1. 权限分配表：disp\n",
        "1. 支付命令表：order\n",
        "1. 交易表：trans"
      ],
      "metadata": {
        "id": "613D36B0A750454E90B07E7DF55CB5DA",
        "jupyter": {},
        "tags": [],
        "slideshow": {
          "slide_type": "slide"
        },
        "trusted": true,
        "mdEditEnable": false
      }
    },
    {
      "cell_type": "code",
      "source": [
        "import pathlib\n",
        "import pandas as pd\n",
        "import datetime\n",
        "import numpy as np\n",
        "import warnings\n",
        "warnings.filterwarnings(\"ignore\")"
      ],
      "outputs": [],
      "execution_count": 1,
      "metadata": {
        "id": "23E62B86E2E446E6A9BB898E1639C7BB",
        "jupyter": {},
        "tags": [],
        "slideshow": {
          "slide_type": "slide"
        },
        "trusted": true,
        "collapsed": false,
        "scrolled": false
      }
    },
    {
      "cell_type": "markdown",
      "source": [
        "### 导入数据"
      ],
      "metadata": {
        "id": "FE4F011369D04794B901F92EE24012A8",
        "jupyter": {},
        "tags": [],
        "slideshow": {
          "slide_type": "slide"
        },
        "trusted": true,
        "mdEditEnable": false
      }
    },
    {
      "cell_type": "code",
      "source": [
        "folder = pathlib.Path.cwd().joinpath('CreditCard_Loan')\n",
        "\n",
        "createVars = locals()\n",
        "for fp in folder.iterdir():\n",
        "    if fp.match('*.csv'):\n",
        "        varname = fp.parts[-1].split('.')[0]\n",
        "        createVars[varname] = pd.read_csv(fp, encoding='gbk')\n",
        "        print(varname)"
      ],
      "outputs": [
        {
          "output_type": "stream",
          "name": "stdout",
          "text": [
            "card\n",
            "clients\n",
            "accounts\n",
            "loans\n",
            "district\n",
            "disp\n",
            "order\n",
            "trans\n"
          ]
        }
      ],
      "execution_count": 2,
      "metadata": {
        "id": "823170A61BB14CE990DE07CA39B558FB",
        "jupyter": {},
        "tags": [],
        "slideshow": {
          "slide_type": "slide"
        },
        "trusted": true,
        "collapsed": false,
        "scrolled": false
      }
    },
    {
      "cell_type": "code",
      "source": [
        "print('账户表有{}条记录'.format(accounts.shape[0]))\n",
        "accounts.head(3)\n",
        "\n",
        "# account_id 账户号，主键\n",
        "# district_id 开户分行地区号，外键\n",
        "# frequency 结算频度（交易之后马上、月结、周结）\n",
        "# date 开户日期"
      ],
      "outputs": [
        {
          "output_type": "stream",
          "name": "stdout",
          "text": [
            "账户表有4500条记录\n"
          ]
        },
        {
          "output_type": "execute_result",
          "execution_count": 3,
          "data": {
            "text/plain": "   account_id  district_id frequency        date\n0         576           55        月结  1993-01-01\n1        3818           74        月结  1993-01-01\n2         704           55        月结  1993-01-01",
            "text/html": "<div>\n<style scoped>\n    .dataframe tbody tr th:only-of-type {\n        vertical-align: middle;\n    }\n\n    .dataframe tbody tr th {\n        vertical-align: top;\n    }\n\n    .dataframe thead th {\n        text-align: right;\n    }\n</style>\n<table border=\"1\" class=\"dataframe\">\n  <thead>\n    <tr style=\"text-align: right;\">\n      <th></th>\n      <th>account_id</th>\n      <th>district_id</th>\n      <th>frequency</th>\n      <th>date</th>\n    </tr>\n  </thead>\n  <tbody>\n    <tr>\n      <th>0</th>\n      <td>576</td>\n      <td>55</td>\n      <td>月结</td>\n      <td>1993-01-01</td>\n    </tr>\n    <tr>\n      <th>1</th>\n      <td>3818</td>\n      <td>74</td>\n      <td>月结</td>\n      <td>1993-01-01</td>\n    </tr>\n    <tr>\n      <th>2</th>\n      <td>704</td>\n      <td>55</td>\n      <td>月结</td>\n      <td>1993-01-01</td>\n    </tr>\n  </tbody>\n</table>\n</div>"
          },
          "metadata": {}
        }
      ],
      "execution_count": 3,
      "metadata": {
        "id": "709D611E153745E08BFA50D2E0EC1E15",
        "jupyter": {},
        "tags": [],
        "slideshow": {
          "slide_type": "slide"
        },
        "trusted": true,
        "collapsed": false,
        "scrolled": false
      }
    },
    {
      "cell_type": "code",
      "source": [
        "print('客户信息表有{}条记录'.format(clients.shape[0]))\n",
        "clients.head(3)\n",
        "\n",
        "# client_id 客户号\n",
        "# sex 性别\n",
        "# birth_date 出生日期\n",
        "# district_id 地区号（客户所属地区）"
      ],
      "outputs": [
        {
          "output_type": "stream",
          "name": "stdout",
          "text": [
            "客户信息表有5369条记录\n"
          ]
        },
        {
          "output_type": "execute_result",
          "execution_count": 4,
          "data": {
            "text/plain": "   client_id sex  birth_date  district_id\n0          1   女  1970-12-13           18\n1          2   男  1945-02-04            1\n2          3   女  1940-10-09            1",
            "text/html": "<div>\n<style scoped>\n    .dataframe tbody tr th:only-of-type {\n        vertical-align: middle;\n    }\n\n    .dataframe tbody tr th {\n        vertical-align: top;\n    }\n\n    .dataframe thead th {\n        text-align: right;\n    }\n</style>\n<table border=\"1\" class=\"dataframe\">\n  <thead>\n    <tr style=\"text-align: right;\">\n      <th></th>\n      <th>client_id</th>\n      <th>sex</th>\n      <th>birth_date</th>\n      <th>district_id</th>\n    </tr>\n  </thead>\n  <tbody>\n    <tr>\n      <th>0</th>\n      <td>1</td>\n      <td>女</td>\n      <td>1970-12-13</td>\n      <td>18</td>\n    </tr>\n    <tr>\n      <th>1</th>\n      <td>2</td>\n      <td>男</td>\n      <td>1945-02-04</td>\n      <td>1</td>\n    </tr>\n    <tr>\n      <th>2</th>\n      <td>3</td>\n      <td>女</td>\n      <td>1940-10-09</td>\n      <td>1</td>\n    </tr>\n  </tbody>\n</table>\n</div>"
          },
          "metadata": {}
        }
      ],
      "execution_count": 4,
      "metadata": {
        "id": "1DD28415D08D473C87966CDBB1E898DF",
        "jupyter": {},
        "tags": [],
        "slideshow": {
          "slide_type": "slide"
        },
        "trusted": true,
        "collapsed": false,
        "scrolled": false
      }
    },
    {
      "cell_type": "code",
      "source": [
        "print('贷款表有{}条记录'.format(loans.shape[0]))\n",
        "loans.head(2)\n",
        "\n",
        "# loan_id 贷款号（主键）\n",
        "# account_id 账户号（外键）\n",
        "# date 发放贷款日期\n",
        "# amount 贷款金额，整数，单位$，无逗号分隔\n",
        "# duration 贷款期限\n",
        "# payments 每月归还额，整数，单位$，无逗号分隔\n",
        "# status 还款状态：A表合同终止，没问题；B表示合同终止，贷款没有支付；C表合同处于执行期，至今正常；D表示合同处于执行期，欠债状态。"
      ],
      "outputs": [
        {
          "output_type": "stream",
          "name": "stdout",
          "text": [
            "贷款表有682条记录\n"
          ]
        },
        {
          "output_type": "execute_result",
          "execution_count": 5,
          "data": {
            "text/plain": "   loan_id  account_id        date  amount  duration  payments status\n0     5314        1787  1993-07-05   96396        12      8033      B\n1     5316        1801  1993-07-11  165960        36      4610      A",
            "text/html": "<div>\n<style scoped>\n    .dataframe tbody tr th:only-of-type {\n        vertical-align: middle;\n    }\n\n    .dataframe tbody tr th {\n        vertical-align: top;\n    }\n\n    .dataframe thead th {\n        text-align: right;\n    }\n</style>\n<table border=\"1\" class=\"dataframe\">\n  <thead>\n    <tr style=\"text-align: right;\">\n      <th></th>\n      <th>loan_id</th>\n      <th>account_id</th>\n      <th>date</th>\n      <th>amount</th>\n      <th>duration</th>\n      <th>payments</th>\n      <th>status</th>\n    </tr>\n  </thead>\n  <tbody>\n    <tr>\n      <th>0</th>\n      <td>5314</td>\n      <td>1787</td>\n      <td>1993-07-05</td>\n      <td>96396</td>\n      <td>12</td>\n      <td>8033</td>\n      <td>B</td>\n    </tr>\n    <tr>\n      <th>1</th>\n      <td>5316</td>\n      <td>1801</td>\n      <td>1993-07-11</td>\n      <td>165960</td>\n      <td>36</td>\n      <td>4610</td>\n      <td>A</td>\n    </tr>\n  </tbody>\n</table>\n</div>"
          },
          "metadata": {}
        }
      ],
      "execution_count": 5,
      "metadata": {
        "id": "8C8EFF321D094A908C295275EEE6D932",
        "jupyter": {},
        "tags": [],
        "slideshow": {
          "slide_type": "slide"
        },
        "trusted": true,
        "collapsed": false,
        "scrolled": false
      }
    },
    {
      "cell_type": "code",
      "source": [
        "print('交易表有{}条记录'.format(trans.shape[0]))\n",
        "trans.head(2)\n",
        "\n",
        "# 交易表（Trans）：每条记录代表每个账户（account_id）上的一条交易\n",
        "# trans_id 交易序号（主键）\n",
        "# account_id 发起交易的账户号（外键）\n",
        "# date 交易日期\n",
        "# type 借贷类型：借（表示支出）、贷（表示收入）\n",
        "# operation 交易类型：从他行收款、信用卡借方、信贷资金、汇款到另一家银行、现金\n",
        "# amount 金额：$和逗号分隔\n",
        "# balance 账户余额：$和逗号分隔\n",
        "# k_symbol 交易特征：保险费、养老金、利息所得、房屋贷款、支付贷款、支票\n",
        "# bank 对方银行：没加银行用两个字母代表\n",
        "# account 对方账户号"
      ],
      "outputs": [
        {
          "output_type": "stream",
          "name": "stdout",
          "text": [
            "交易表有1056320条记录\n"
          ]
        },
        {
          "output_type": "execute_result",
          "execution_count": 6,
          "data": {
            "text/plain": "   trans_id  account_id        date type operation amount balance k_symbol  \\\n0    695247        2378  1993-01-01    贷      信贷资金   $700    $700      NaN   \n1    171812         576  1993-01-01    贷      信贷资金   $900    $900      NaN   \n\n  bank  account  \n0  NaN      NaN  \n1  NaN      NaN  ",
            "text/html": "<div>\n<style scoped>\n    .dataframe tbody tr th:only-of-type {\n        vertical-align: middle;\n    }\n\n    .dataframe tbody tr th {\n        vertical-align: top;\n    }\n\n    .dataframe thead th {\n        text-align: right;\n    }\n</style>\n<table border=\"1\" class=\"dataframe\">\n  <thead>\n    <tr style=\"text-align: right;\">\n      <th></th>\n      <th>trans_id</th>\n      <th>account_id</th>\n      <th>date</th>\n      <th>type</th>\n      <th>operation</th>\n      <th>amount</th>\n      <th>balance</th>\n      <th>k_symbol</th>\n      <th>bank</th>\n      <th>account</th>\n    </tr>\n  </thead>\n  <tbody>\n    <tr>\n      <th>0</th>\n      <td>695247</td>\n      <td>2378</td>\n      <td>1993-01-01</td>\n      <td>贷</td>\n      <td>信贷资金</td>\n      <td>$700</td>\n      <td>$700</td>\n      <td>NaN</td>\n      <td>NaN</td>\n      <td>NaN</td>\n    </tr>\n    <tr>\n      <th>1</th>\n      <td>171812</td>\n      <td>576</td>\n      <td>1993-01-01</td>\n      <td>贷</td>\n      <td>信贷资金</td>\n      <td>$900</td>\n      <td>$900</td>\n      <td>NaN</td>\n      <td>NaN</td>\n      <td>NaN</td>\n    </tr>\n  </tbody>\n</table>\n</div>"
          },
          "metadata": {}
        }
      ],
      "execution_count": 6,
      "metadata": {
        "id": "5DFB063CA92E483D86D616B8F6AF1735",
        "jupyter": {},
        "tags": [],
        "slideshow": {
          "slide_type": "slide"
        },
        "trusted": true,
        "collapsed": false,
        "scrolled": false
      }
    },
    {
      "cell_type": "code",
      "source": [
        "print('权限分配表有{}条记录'.format(disp.shape[0]))\n",
        "disp.head(2)\n",
        "\n",
        "# 权限分配表(Disp) 每条记录描述了客户和账户之间的关系，以及客户操作账户的权限\n",
        "# disp_id 权限设置号\n",
        "# client_id 顾客号\n",
        "# account_id 账户号\n",
        "# type 权限类型：所有者和用户。所有者权限用户可以进行增值业务操作和贷款"
      ],
      "outputs": [
        {
          "output_type": "stream",
          "name": "stdout",
          "text": [
            "权限分配表有5369条记录\n"
          ]
        },
        {
          "output_type": "execute_result",
          "execution_count": 7,
          "data": {
            "text/plain": "   disp_id  client_id  account_id type\n0        1          1           1  所有者\n1        2          2           2  所有者",
            "text/html": "<div>\n<style scoped>\n    .dataframe tbody tr th:only-of-type {\n        vertical-align: middle;\n    }\n\n    .dataframe tbody tr th {\n        vertical-align: top;\n    }\n\n    .dataframe thead th {\n        text-align: right;\n    }\n</style>\n<table border=\"1\" class=\"dataframe\">\n  <thead>\n    <tr style=\"text-align: right;\">\n      <th></th>\n      <th>disp_id</th>\n      <th>client_id</th>\n      <th>account_id</th>\n      <th>type</th>\n    </tr>\n  </thead>\n  <tbody>\n    <tr>\n      <th>0</th>\n      <td>1</td>\n      <td>1</td>\n      <td>1</td>\n      <td>所有者</td>\n    </tr>\n    <tr>\n      <th>1</th>\n      <td>2</td>\n      <td>2</td>\n      <td>2</td>\n      <td>所有者</td>\n    </tr>\n  </tbody>\n</table>\n</div>"
          },
          "metadata": {}
        }
      ],
      "execution_count": 7,
      "metadata": {
        "id": "21800F5108C24184A40DC3CFD72CF988",
        "jupyter": {},
        "tags": [],
        "slideshow": {
          "slide_type": "slide"
        },
        "trusted": true,
        "collapsed": false,
        "scrolled": false
      }
    },
    {
      "cell_type": "code",
      "source": [
        "print('信用卡表有{}条记录'.format(card.shape[0]))\n",
        "card.head(2)\n",
        "\n",
        "# 信用卡(Card) 每条记录描述了一个账户上的信用卡信息 \n",
        "# card_id 信用卡ID（主键）\n",
        "# disp_id 账户权限号（外键）\n",
        "# issued 发卡日期\n",
        "# type 卡类型：青年卡、金卡、普通卡"
      ],
      "outputs": [
        {
          "output_type": "stream",
          "name": "stdout",
          "text": [
            "信用卡表有892条记录\n"
          ]
        },
        {
          "output_type": "execute_result",
          "execution_count": 8,
          "data": {
            "text/plain": "   card_id  disp_id      issued type\n0     1005     9285  1993-11-07  普通卡\n1      104      588  1994-01-19  普通卡",
            "text/html": "<div>\n<style scoped>\n    .dataframe tbody tr th:only-of-type {\n        vertical-align: middle;\n    }\n\n    .dataframe tbody tr th {\n        vertical-align: top;\n    }\n\n    .dataframe thead th {\n        text-align: right;\n    }\n</style>\n<table border=\"1\" class=\"dataframe\">\n  <thead>\n    <tr style=\"text-align: right;\">\n      <th></th>\n      <th>card_id</th>\n      <th>disp_id</th>\n      <th>issued</th>\n      <th>type</th>\n    </tr>\n  </thead>\n  <tbody>\n    <tr>\n      <th>0</th>\n      <td>1005</td>\n      <td>9285</td>\n      <td>1993-11-07</td>\n      <td>普通卡</td>\n    </tr>\n    <tr>\n      <th>1</th>\n      <td>104</td>\n      <td>588</td>\n      <td>1994-01-19</td>\n      <td>普通卡</td>\n    </tr>\n  </tbody>\n</table>\n</div>"
          },
          "metadata": {}
        }
      ],
      "execution_count": 8,
      "metadata": {
        "id": "2141944C0FFA472C83F4C393A9292470",
        "jupyter": {},
        "tags": [],
        "slideshow": {
          "slide_type": "slide"
        },
        "trusted": true,
        "collapsed": false,
        "scrolled": false
      }
    },
    {
      "cell_type": "code",
      "source": [
        "print('居住地区统计表有{}条记录'.format(district.shape[0]))\n",
        "district.head(2)\n",
        "\n",
        "# 人口地区统计表（District）：每条记录描述了一个地区的人口统计学信息\n",
        "# A1 同district_id 地区号（主键）\n",
        "# GDP\tGDP总量\n",
        "# A4\t居住人口\n",
        "# A10\t城镇人口比例\n",
        "# A11\t平均工资\n",
        "# A12\t1995年失业率\n",
        "# A13\t1996年失业率\n",
        "# A14\t1000人中有多少企业家\n",
        "# A15\t1995犯罪率（千人）\n",
        "# a16\t1996犯罪率（千人）"
      ],
      "outputs": [
        {
          "output_type": "stream",
          "name": "stdout",
          "text": [
            "居住地区统计表有77条记录\n"
          ]
        },
        {
          "output_type": "execute_result",
          "execution_count": 9,
          "data": {
            "text/plain": "   A1     GDP       A4    A10    A11   A12   A13  A14   A15   a16\n0   1  283894  1204953  100.0  12541  0.29  0.43  167  35.6  41.1\n1   2   11655    88884   46.7   8507  1.67  1.85  132  12.1  15.0",
            "text/html": "<div>\n<style scoped>\n    .dataframe tbody tr th:only-of-type {\n        vertical-align: middle;\n    }\n\n    .dataframe tbody tr th {\n        vertical-align: top;\n    }\n\n    .dataframe thead th {\n        text-align: right;\n    }\n</style>\n<table border=\"1\" class=\"dataframe\">\n  <thead>\n    <tr style=\"text-align: right;\">\n      <th></th>\n      <th>A1</th>\n      <th>GDP</th>\n      <th>A4</th>\n      <th>A10</th>\n      <th>A11</th>\n      <th>A12</th>\n      <th>A13</th>\n      <th>A14</th>\n      <th>A15</th>\n      <th>a16</th>\n    </tr>\n  </thead>\n  <tbody>\n    <tr>\n      <th>0</th>\n      <td>1</td>\n      <td>283894</td>\n      <td>1204953</td>\n      <td>100.0</td>\n      <td>12541</td>\n      <td>0.29</td>\n      <td>0.43</td>\n      <td>167</td>\n      <td>35.6</td>\n      <td>41.1</td>\n    </tr>\n    <tr>\n      <th>1</th>\n      <td>2</td>\n      <td>11655</td>\n      <td>88884</td>\n      <td>46.7</td>\n      <td>8507</td>\n      <td>1.67</td>\n      <td>1.85</td>\n      <td>132</td>\n      <td>12.1</td>\n      <td>15.0</td>\n    </tr>\n  </tbody>\n</table>\n</div>"
          },
          "metadata": {}
        }
      ],
      "execution_count": 9,
      "metadata": {
        "id": "788AC6D6C16E445F84686A33439915C3",
        "jupyter": {},
        "tags": [],
        "slideshow": {
          "slide_type": "slide"
        },
        "trusted": true,
        "collapsed": false,
        "scrolled": false
      }
    },
    {
      "cell_type": "markdown",
      "source": [
        "## 数据准备与处理\n",
        "### 创建预测变量Y：被解释变量\n",
        "\n",
        "已知贷款表中的贷款状态有4类，分别为\n",
        "A:合同终止，没问题；B:合同终止，贷款没有支付；C:合同执行期，至今正常；D：合同执行期，欠债状态。"
      ],
      "metadata": {
        "id": "9A477EBCB3B24C00A1393F4FE8F74F51",
        "jupyter": {},
        "tags": [],
        "slideshow": {
          "slide_type": "slide"
        },
        "trusted": true,
        "mdEditEnable": false
      }
    },
    {
      "cell_type": "code",
      "source": [
        "# 将C类设为待定，即待预测\n",
        "# A类为负样本即守约样本，B类C类为正样本即违约样本\n",
        "loan_status = {'A':0,'C':2,'B':1,'D':1}\n",
        "loans['bad_good'] = loans['status'].map(loan_status)"
      ],
      "outputs": [],
      "execution_count": 10,
      "metadata": {
        "id": "A90FB3FC114148BF8BBAD8113E29E7C6",
        "jupyter": {},
        "tags": [],
        "slideshow": {
          "slide_type": "slide"
        },
        "trusted": true,
        "collapsed": false,
        "scrolled": false
      }
    },
    {
      "cell_type": "code",
      "source": [
        "# 不同贷款状态的贷款数统计\n",
        "loans.groupby(by='status').size()"
      ],
      "outputs": [
        {
          "output_type": "execute_result",
          "execution_count": 11,
          "data": {
            "text/plain": "status\nA    203\nB     31\nC    403\nD     45\ndtype: int64"
          },
          "metadata": {}
        }
      ],
      "execution_count": 11,
      "metadata": {
        "id": "3B300F487F72480C83915AC090A6B7F1",
        "jupyter": {},
        "tags": [],
        "slideshow": {
          "slide_type": "slide"
        },
        "trusted": true,
        "collapsed": false,
        "scrolled": false
      }
    },
    {
      "cell_type": "code",
      "source": [
        "loans.head()"
      ],
      "outputs": [
        {
          "output_type": "execute_result",
          "execution_count": 12,
          "data": {
            "text/plain": "   loan_id  account_id        date  amount  duration  payments status  \\\n0     5314        1787  1993-07-05   96396        12      8033      B   \n1     5316        1801  1993-07-11  165960        36      4610      A   \n2     6863        9188  1993-07-28  127080        60      2118      A   \n3     5325        1843  1993-08-03  105804        36      2939      A   \n4     7240       11013  1993-09-06  274740        60      4579      A   \n\n   bad_good  \n0         1  \n1         0  \n2         0  \n3         0  \n4         0  ",
            "text/html": "<div>\n<style scoped>\n    .dataframe tbody tr th:only-of-type {\n        vertical-align: middle;\n    }\n\n    .dataframe tbody tr th {\n        vertical-align: top;\n    }\n\n    .dataframe thead th {\n        text-align: right;\n    }\n</style>\n<table border=\"1\" class=\"dataframe\">\n  <thead>\n    <tr style=\"text-align: right;\">\n      <th></th>\n      <th>loan_id</th>\n      <th>account_id</th>\n      <th>date</th>\n      <th>amount</th>\n      <th>duration</th>\n      <th>payments</th>\n      <th>status</th>\n      <th>bad_good</th>\n    </tr>\n  </thead>\n  <tbody>\n    <tr>\n      <th>0</th>\n      <td>5314</td>\n      <td>1787</td>\n      <td>1993-07-05</td>\n      <td>96396</td>\n      <td>12</td>\n      <td>8033</td>\n      <td>B</td>\n      <td>1</td>\n    </tr>\n    <tr>\n      <th>1</th>\n      <td>5316</td>\n      <td>1801</td>\n      <td>1993-07-11</td>\n      <td>165960</td>\n      <td>36</td>\n      <td>4610</td>\n      <td>A</td>\n      <td>0</td>\n    </tr>\n    <tr>\n      <th>2</th>\n      <td>6863</td>\n      <td>9188</td>\n      <td>1993-07-28</td>\n      <td>127080</td>\n      <td>60</td>\n      <td>2118</td>\n      <td>A</td>\n      <td>0</td>\n    </tr>\n    <tr>\n      <th>3</th>\n      <td>5325</td>\n      <td>1843</td>\n      <td>1993-08-03</td>\n      <td>105804</td>\n      <td>36</td>\n      <td>2939</td>\n      <td>A</td>\n      <td>0</td>\n    </tr>\n    <tr>\n      <th>4</th>\n      <td>7240</td>\n      <td>11013</td>\n      <td>1993-09-06</td>\n      <td>274740</td>\n      <td>60</td>\n      <td>4579</td>\n      <td>A</td>\n      <td>0</td>\n    </tr>\n  </tbody>\n</table>\n</div>"
          },
          "metadata": {}
        }
      ],
      "execution_count": 12,
      "metadata": {
        "id": "0B54807F2E6C41078253C371C72B4D31",
        "jupyter": {},
        "tags": [],
        "slideshow": {
          "slide_type": "slide"
        },
        "trusted": true,
        "collapsed": false,
        "scrolled": false
      }
    },
    {
      "cell_type": "markdown",
      "source": [
        "### 选取特征变量X：解释变量\n",
        "#### 客户表征信息\n",
        "借款人的基本信息：借款时年龄、性别、账号级别信息等"
      ],
      "metadata": {
        "id": "EE7ED21A802440408ACB4FC805000D8A",
        "jupyter": {},
        "tags": [],
        "slideshow": {
          "slide_type": "slide"
        },
        "trusted": true,
        "mdEditEnable": false
      }
    },
    {
      "cell_type": "code",
      "source": [
        "data1 = pd.merge(loans, disp, on = 'account_id',how = 'left')\n",
        "client_disp = pd.merge(data1, clients, on = 'client_id',how = 'left')\n",
        "\n",
        "# 日期字符串转换为datatime类型\n",
        "client_disp['date'] = pd.to_datetime(client_disp['date'])\n",
        "client_disp['birth_date'] = pd.to_datetime(client_disp['birth_date'])#将字符串转换为datatime时间序列\n",
        "# 计算借款时年龄\n",
        "client_disp['age'] = round((client_disp['date']-client_disp['birth_date'])/datetime.timedelta(days=365),0)\n",
        "client_disp.head() "
      ],
      "outputs": [
        {
          "output_type": "execute_result",
          "execution_count": 13,
          "data": {
            "text/plain": "   loan_id  account_id       date  amount  duration  payments status  \\\n0     5314        1787 1993-07-05   96396        12      8033      B   \n1     5316        1801 1993-07-11  165960        36      4610      A   \n2     6863        9188 1993-07-28  127080        60      2118      A   \n3     5325        1843 1993-08-03  105804        36      2939      A   \n4     7240       11013 1993-09-06  274740        60      4579      A   \n\n   bad_good  disp_id  client_id type sex birth_date  district_id   age  \n0         1     2166       2166  所有者   女 1947-07-22           30  46.0  \n1         0     2181       2181  所有者   男 1968-07-22           46  25.0  \n2         0    11006      11314  所有者   男 1936-06-02           45  57.0  \n3         0     2235       2235  所有者   女 1940-04-20           14  53.0  \n4         0    13231      13539  所有者   男 1978-09-07           63  15.0  ",
            "text/html": "<div>\n<style scoped>\n    .dataframe tbody tr th:only-of-type {\n        vertical-align: middle;\n    }\n\n    .dataframe tbody tr th {\n        vertical-align: top;\n    }\n\n    .dataframe thead th {\n        text-align: right;\n    }\n</style>\n<table border=\"1\" class=\"dataframe\">\n  <thead>\n    <tr style=\"text-align: right;\">\n      <th></th>\n      <th>loan_id</th>\n      <th>account_id</th>\n      <th>date</th>\n      <th>amount</th>\n      <th>duration</th>\n      <th>payments</th>\n      <th>status</th>\n      <th>bad_good</th>\n      <th>disp_id</th>\n      <th>client_id</th>\n      <th>type</th>\n      <th>sex</th>\n      <th>birth_date</th>\n      <th>district_id</th>\n      <th>age</th>\n    </tr>\n  </thead>\n  <tbody>\n    <tr>\n      <th>0</th>\n      <td>5314</td>\n      <td>1787</td>\n      <td>1993-07-05</td>\n      <td>96396</td>\n      <td>12</td>\n      <td>8033</td>\n      <td>B</td>\n      <td>1</td>\n      <td>2166</td>\n      <td>2166</td>\n      <td>所有者</td>\n      <td>女</td>\n      <td>1947-07-22</td>\n      <td>30</td>\n      <td>46.0</td>\n    </tr>\n    <tr>\n      <th>1</th>\n      <td>5316</td>\n      <td>1801</td>\n      <td>1993-07-11</td>\n      <td>165960</td>\n      <td>36</td>\n      <td>4610</td>\n      <td>A</td>\n      <td>0</td>\n      <td>2181</td>\n      <td>2181</td>\n      <td>所有者</td>\n      <td>男</td>\n      <td>1968-07-22</td>\n      <td>46</td>\n      <td>25.0</td>\n    </tr>\n    <tr>\n      <th>2</th>\n      <td>6863</td>\n      <td>9188</td>\n      <td>1993-07-28</td>\n      <td>127080</td>\n      <td>60</td>\n      <td>2118</td>\n      <td>A</td>\n      <td>0</td>\n      <td>11006</td>\n      <td>11314</td>\n      <td>所有者</td>\n      <td>男</td>\n      <td>1936-06-02</td>\n      <td>45</td>\n      <td>57.0</td>\n    </tr>\n    <tr>\n      <th>3</th>\n      <td>5325</td>\n      <td>1843</td>\n      <td>1993-08-03</td>\n      <td>105804</td>\n      <td>36</td>\n      <td>2939</td>\n      <td>A</td>\n      <td>0</td>\n      <td>2235</td>\n      <td>2235</td>\n      <td>所有者</td>\n      <td>女</td>\n      <td>1940-04-20</td>\n      <td>14</td>\n      <td>53.0</td>\n    </tr>\n    <tr>\n      <th>4</th>\n      <td>7240</td>\n      <td>11013</td>\n      <td>1993-09-06</td>\n      <td>274740</td>\n      <td>60</td>\n      <td>4579</td>\n      <td>A</td>\n      <td>0</td>\n      <td>13231</td>\n      <td>13539</td>\n      <td>所有者</td>\n      <td>男</td>\n      <td>1978-09-07</td>\n      <td>63</td>\n      <td>15.0</td>\n    </tr>\n  </tbody>\n</table>\n</div>"
          },
          "metadata": {}
        }
      ],
      "execution_count": 13,
      "metadata": {
        "id": "E212460D7A564B45AAF81B846740C3F5",
        "jupyter": {},
        "tags": [],
        "slideshow": {
          "slide_type": "slide"
        },
        "trusted": true,
        "collapsed": false,
        "scrolled": false
      }
    },
    {
      "cell_type": "markdown",
      "source": [
        "#### 客户状态信息\n",
        "借款人的居住地的经济状况：如居住地失业率、人口、GDP、平均工资、犯罪率等"
      ],
      "metadata": {
        "id": "F75AFE2267204CB488A1BB6C0496FC7D",
        "jupyter": {},
        "tags": [],
        "slideshow": {
          "slide_type": "slide"
        },
        "trusted": true,
        "mdEditEnable": false
      }
    },
    {
      "cell_type": "code",
      "source": [
        "client_loan_district = pd.merge(client_disp,district,left_on = 'district_id',right_on ='A1',how = 'left')\n",
        "client_loan_district.head(3)"
      ],
      "outputs": [
        {
          "output_type": "execute_result",
          "execution_count": 14,
          "data": {
            "text/plain": "   loan_id  account_id       date  amount  duration  payments status  \\\n0     5314        1787 1993-07-05   96396        12      8033      B   \n1     5316        1801 1993-07-11  165960        36      4610      A   \n2     6863        9188 1993-07-28  127080        60      2118      A   \n\n   bad_good  disp_id  client_id  ...  A1    GDP      A4   A10   A11   A12  \\\n0         1     2166       2166  ...  30  16979   94812  81.8  9650  3.38   \n1         0     2181       2181  ...  46  14111  112709  73.5  8369  1.79   \n2         0    11006      11314  ...  45  12888   77917  53.5  8390  2.28   \n\n    A13  A14   A15   a16  \n0  3.67  100  15.7  14.8  \n1  2.31  117  12.7  11.6  \n2  2.89  132  13.3  13.6  \n\n[3 rows x 25 columns]",
            "text/html": "<div>\n<style scoped>\n    .dataframe tbody tr th:only-of-type {\n        vertical-align: middle;\n    }\n\n    .dataframe tbody tr th {\n        vertical-align: top;\n    }\n\n    .dataframe thead th {\n        text-align: right;\n    }\n</style>\n<table border=\"1\" class=\"dataframe\">\n  <thead>\n    <tr style=\"text-align: right;\">\n      <th></th>\n      <th>loan_id</th>\n      <th>account_id</th>\n      <th>date</th>\n      <th>amount</th>\n      <th>duration</th>\n      <th>payments</th>\n      <th>status</th>\n      <th>bad_good</th>\n      <th>disp_id</th>\n      <th>client_id</th>\n      <th>...</th>\n      <th>A1</th>\n      <th>GDP</th>\n      <th>A4</th>\n      <th>A10</th>\n      <th>A11</th>\n      <th>A12</th>\n      <th>A13</th>\n      <th>A14</th>\n      <th>A15</th>\n      <th>a16</th>\n    </tr>\n  </thead>\n  <tbody>\n    <tr>\n      <th>0</th>\n      <td>5314</td>\n      <td>1787</td>\n      <td>1993-07-05</td>\n      <td>96396</td>\n      <td>12</td>\n      <td>8033</td>\n      <td>B</td>\n      <td>1</td>\n      <td>2166</td>\n      <td>2166</td>\n      <td>...</td>\n      <td>30</td>\n      <td>16979</td>\n      <td>94812</td>\n      <td>81.8</td>\n      <td>9650</td>\n      <td>3.38</td>\n      <td>3.67</td>\n      <td>100</td>\n      <td>15.7</td>\n      <td>14.8</td>\n    </tr>\n    <tr>\n      <th>1</th>\n      <td>5316</td>\n      <td>1801</td>\n      <td>1993-07-11</td>\n      <td>165960</td>\n      <td>36</td>\n      <td>4610</td>\n      <td>A</td>\n      <td>0</td>\n      <td>2181</td>\n      <td>2181</td>\n      <td>...</td>\n      <td>46</td>\n      <td>14111</td>\n      <td>112709</td>\n      <td>73.5</td>\n      <td>8369</td>\n      <td>1.79</td>\n      <td>2.31</td>\n      <td>117</td>\n      <td>12.7</td>\n      <td>11.6</td>\n    </tr>\n    <tr>\n      <th>2</th>\n      <td>6863</td>\n      <td>9188</td>\n      <td>1993-07-28</td>\n      <td>127080</td>\n      <td>60</td>\n      <td>2118</td>\n      <td>A</td>\n      <td>0</td>\n      <td>11006</td>\n      <td>11314</td>\n      <td>...</td>\n      <td>45</td>\n      <td>12888</td>\n      <td>77917</td>\n      <td>53.5</td>\n      <td>8390</td>\n      <td>2.28</td>\n      <td>2.89</td>\n      <td>132</td>\n      <td>13.3</td>\n      <td>13.6</td>\n    </tr>\n  </tbody>\n</table>\n<p>3 rows × 25 columns</p>\n</div>"
          },
          "metadata": {}
        }
      ],
      "execution_count": 14,
      "metadata": {
        "id": "88D2D55E15E9467791BBF6B0691098EF",
        "jupyter": {},
        "tags": [],
        "slideshow": {
          "slide_type": "slide"
        },
        "trusted": true,
        "collapsed": false,
        "scrolled": false
      }
    },
    {
      "cell_type": "markdown",
      "source": [
        "#### 客户行为信息（资产状况）\n",
        "客户的账户变动信息：计算如平均余额、余额波动、余额变异系数、平均入账与平均支出的比例、贷存比等，用于考察借款人的还款能力"
      ],
      "metadata": {
        "id": "6140BCE8E39B40FF8B434A4E16836992",
        "jupyter": {},
        "tags": [],
        "slideshow": {
          "slide_type": "slide"
        },
        "trusted": true,
        "mdEditEnable": false
      }
    },
    {
      "cell_type": "code",
      "source": [
        "# 借款人借款日期以及历史交易记录\n",
        "trans_loan = pd.merge(loans[['account_id','date']], trans[['account_id','type','amount','balance','date']], on = 'account_id')\n",
        "trans_loan.rename(columns={'date_x':'loan_date','date_y':'tran_date'}, inplace=True)\n",
        "# 基于交易日期排序\n",
        "trans_loan = trans_loan.sort_values(by =['account_id','tran_date'])\n",
        "# 日期字段更改字符串类型为日期类型\n",
        "trans_loan['loan_date'] = pd.to_datetime(trans_loan['loan_date'])\n",
        "trans_loan['tran_date'] = pd.to_datetime(trans_loan['tran_date'])\n",
        "\n",
        "# 金额字段]:去掉$符号和逗号分隔,提取数值金额\n",
        "trans_loan['amount_v'] = trans_loan['amount'].map(lambda x: int(''.join(x[1:].split(','))) )\n",
        "trans_loan['balance_v'] = trans_loan['balance'].map(lambda x: int(''.join(x[1:].split(','))) )"
      ],
      "outputs": [],
      "execution_count": 15,
      "metadata": {
        "id": "24085E339738436FA21A9B91C572E6EA",
        "jupyter": {},
        "tags": [],
        "slideshow": {
          "slide_type": "slide"
        },
        "trusted": true,
        "collapsed": false,
        "scrolled": false
      }
    },
    {
      "cell_type": "markdown",
      "source": [
        "* 取数时间窗口 \n",
        "鉴于我们要预测借款人在放贷后的违约概率，用户在放贷前一年的行为数据更有参考价值。\n",
        "在这里，将贷前审批的**数据观测时间窗口**定为一年。"
      ],
      "metadata": {
        "id": "2EDF48474E214B9A8718A4834ACCCD22",
        "jupyter": {},
        "tags": [],
        "slideshow": {
          "slide_type": "slide"
        },
        "trusted": true,
        "collapsed": false,
        "mdEditEnable": false
      }
    },
    {
      "cell_type": "code",
      "source": [
        "# 选出放款日期前1年（365天）至前1天的交易记录\n",
        "print('借款人交易记录共有{}条。'.format(trans_loan.shape[0]))\n",
        "trans_loan = trans_loan[(trans_loan['loan_date'] > trans_loan['tran_date'] ) \n",
        "                    & (trans_loan['loan_date'] < (trans_loan['tran_date'] + datetime.timedelta(days=365)))]\n",
        "print('取数窗口为放款日期前1年（365天）至前1天，筛选出{}条记录。'.format(trans_loan.shape[0]))\n",
        "trans_loan.head()"
      ],
      "outputs": [
        {
          "output_type": "stream",
          "name": "stdout",
          "text": [
            "借款人交易记录共有191556条。\n",
            "取数窗口为放款日期前1年（365天）至前1天，筛选出45366条记录。\n"
          ]
        },
        {
          "output_type": "execute_result",
          "execution_count": 16,
          "data": {
            "text/plain": "       account_id  loan_date type  amount balance  tran_date  amount_v  \\\n10020           2 1994-01-05    贷  $1,100  $1,100 1993-02-26      1100   \n10021           2 1994-01-05    贷  $20236  $21336 1993-03-12     20236   \n10022           2 1994-01-05    贷  $3,700  $25036 1993-03-28      3700   \n10023           2 1994-01-05    贷     $14  $25050 1993-03-31        14   \n10024           2 1994-01-05    贷  $20236  $45286 1993-04-12     20236   \n\n       balance_v  \n10020       1100  \n10021      21336  \n10022      25036  \n10023      25050  \n10024      45286  ",
            "text/html": "<div>\n<style scoped>\n    .dataframe tbody tr th:only-of-type {\n        vertical-align: middle;\n    }\n\n    .dataframe tbody tr th {\n        vertical-align: top;\n    }\n\n    .dataframe thead th {\n        text-align: right;\n    }\n</style>\n<table border=\"1\" class=\"dataframe\">\n  <thead>\n    <tr style=\"text-align: right;\">\n      <th></th>\n      <th>account_id</th>\n      <th>loan_date</th>\n      <th>type</th>\n      <th>amount</th>\n      <th>balance</th>\n      <th>tran_date</th>\n      <th>amount_v</th>\n      <th>balance_v</th>\n    </tr>\n  </thead>\n  <tbody>\n    <tr>\n      <th>10020</th>\n      <td>2</td>\n      <td>1994-01-05</td>\n      <td>贷</td>\n      <td>$1,100</td>\n      <td>$1,100</td>\n      <td>1993-02-26</td>\n      <td>1100</td>\n      <td>1100</td>\n    </tr>\n    <tr>\n      <th>10021</th>\n      <td>2</td>\n      <td>1994-01-05</td>\n      <td>贷</td>\n      <td>$20236</td>\n      <td>$21336</td>\n      <td>1993-03-12</td>\n      <td>20236</td>\n      <td>21336</td>\n    </tr>\n    <tr>\n      <th>10022</th>\n      <td>2</td>\n      <td>1994-01-05</td>\n      <td>贷</td>\n      <td>$3,700</td>\n      <td>$25036</td>\n      <td>1993-03-28</td>\n      <td>3700</td>\n      <td>25036</td>\n    </tr>\n    <tr>\n      <th>10023</th>\n      <td>2</td>\n      <td>1994-01-05</td>\n      <td>贷</td>\n      <td>$14</td>\n      <td>$25050</td>\n      <td>1993-03-31</td>\n      <td>14</td>\n      <td>25050</td>\n    </tr>\n    <tr>\n      <th>10024</th>\n      <td>2</td>\n      <td>1994-01-05</td>\n      <td>贷</td>\n      <td>$20236</td>\n      <td>$45286</td>\n      <td>1993-04-12</td>\n      <td>20236</td>\n      <td>45286</td>\n    </tr>\n  </tbody>\n</table>\n</div>"
          },
          "metadata": {}
        }
      ],
      "execution_count": 16,
      "metadata": {
        "id": "4902621D760943B1803D0982E850091C",
        "jupyter": {},
        "tags": [],
        "slideshow": {
          "slide_type": "slide"
        },
        "trusted": true,
        "collapsed": false,
        "scrolled": false
      }
    },
    {
      "cell_type": "markdown",
      "source": [
        "* 计算借款人的账户余额信息：平均余额、余额波动、余额变异系数"
      ],
      "metadata": {
        "id": "3701A96EE7504E2497B8306C324262B7",
        "jupyter": {},
        "tags": [],
        "slideshow": {
          "slide_type": "slide"
        },
        "trusted": true,
        "mdEditEnable": false
      }
    },
    {
      "cell_type": "code",
      "source": [
        "# 平均账户余额（代表财富水平）、账户余额的标准差（代表财富稳定情况）和变异系数（代表财富稳定的另一个指标）。\n",
        "balance_info = trans_loan.groupby(by='account_id')['balance_v'].agg([('avg_balance','mean'),('stdev_balance','std')]).reset_index()\n",
        "balance_info['cv_balance'] =balance_info.apply(lambda x:x['stdev_balance']/x['avg_balance'], axis=1) \n",
        "balance_info.head(3)"
      ],
      "outputs": [
        {
          "output_type": "execute_result",
          "execution_count": 17,
          "data": {
            "text/plain": "   account_id   avg_balance  stdev_balance  cv_balance\n0           2  32590.759259   12061.802206    0.370099\n1          19  25871.223684   15057.521648    0.582018\n2          25  56916.984496   21058.667949    0.369989",
            "text/html": "<div>\n<style scoped>\n    .dataframe tbody tr th:only-of-type {\n        vertical-align: middle;\n    }\n\n    .dataframe tbody tr th {\n        vertical-align: top;\n    }\n\n    .dataframe thead th {\n        text-align: right;\n    }\n</style>\n<table border=\"1\" class=\"dataframe\">\n  <thead>\n    <tr style=\"text-align: right;\">\n      <th></th>\n      <th>account_id</th>\n      <th>avg_balance</th>\n      <th>stdev_balance</th>\n      <th>cv_balance</th>\n    </tr>\n  </thead>\n  <tbody>\n    <tr>\n      <th>0</th>\n      <td>2</td>\n      <td>32590.759259</td>\n      <td>12061.802206</td>\n      <td>0.370099</td>\n    </tr>\n    <tr>\n      <th>1</th>\n      <td>19</td>\n      <td>25871.223684</td>\n      <td>15057.521648</td>\n      <td>0.582018</td>\n    </tr>\n    <tr>\n      <th>2</th>\n      <td>25</td>\n      <td>56916.984496</td>\n      <td>21058.667949</td>\n      <td>0.369989</td>\n    </tr>\n  </tbody>\n</table>\n</div>"
          },
          "metadata": {}
        }
      ],
      "execution_count": 17,
      "metadata": {
        "id": "6D917AB39FC841B288D78BBC0289E931",
        "jupyter": {},
        "tags": [],
        "slideshow": {
          "slide_type": "slide"
        },
        "trusted": true,
        "collapsed": false,
        "scrolled": false,
        "mdEditEnable": false
      }
    },
    {
      "cell_type": "markdown",
      "source": [
        "* 计算平均入账vs平均支出\n",
        "在用户交易表（trans表）中，交易类型有2种，“贷”表收入，“借”表支出。"
      ],
      "metadata": {
        "id": "D3B53826EFA747DE8D440A1AC11E2E6C",
        "jupyter": {},
        "tags": [],
        "slideshow": {
          "slide_type": "slide"
        },
        "trusted": true,
        "mdEditEnable": false
      }
    },
    {
      "cell_type": "code",
      "source": [
        "# 账户的收入与支出的汇总\n",
        "income_out = trans_loan.groupby(by=['account_id','type'])['amount_v'].sum().reset_index()\n",
        "income_out['type'] = income_out.type.map({'借':'out', '贷':'income'})\n",
        "# 列转行，将每个账户的两条记录转换为每个账户一条记录\n",
        "income_out = pd.pivot_table(income_out, values = 'amount_v', index = 'account_id',columns='type')\n",
        "\n",
        "# 查看是否存在缺失值, 在支出列存在3个缺失值，进行缺失值填充\n",
        "print('缺失值查看\\n',income_out.isna().sum())\n",
        "income_out.fillna(0, inplace=True)\n",
        "\n",
        "# 计算支出占收入占比\n",
        "income_out['rate_out_in'] = income_out.apply(lambda x: x['out']/x['income'], axis=1)\n",
        "income_out.head(4)"
      ],
      "outputs": [
        {
          "output_type": "stream",
          "name": "stdout",
          "text": [
            "缺失值查看\n",
            " type\n",
            "income    0\n",
            "out       3\n",
            "dtype: int64\n"
          ]
        },
        {
          "output_type": "execute_result",
          "execution_count": 18,
          "data": {
            "text/plain": "type          income       out  rate_out_in\naccount_id                                 \n2           276514.0  153020.0     0.553390\n19          254255.0  198020.0     0.778824\n25          726479.0  629108.0     0.865969\n37          386357.0  328541.0     0.850356",
            "text/html": "<div>\n<style scoped>\n    .dataframe tbody tr th:only-of-type {\n        vertical-align: middle;\n    }\n\n    .dataframe tbody tr th {\n        vertical-align: top;\n    }\n\n    .dataframe thead th {\n        text-align: right;\n    }\n</style>\n<table border=\"1\" class=\"dataframe\">\n  <thead>\n    <tr style=\"text-align: right;\">\n      <th>type</th>\n      <th>income</th>\n      <th>out</th>\n      <th>rate_out_in</th>\n    </tr>\n    <tr>\n      <th>account_id</th>\n      <th></th>\n      <th></th>\n      <th></th>\n    </tr>\n  </thead>\n  <tbody>\n    <tr>\n      <th>2</th>\n      <td>276514.0</td>\n      <td>153020.0</td>\n      <td>0.553390</td>\n    </tr>\n    <tr>\n      <th>19</th>\n      <td>254255.0</td>\n      <td>198020.0</td>\n      <td>0.778824</td>\n    </tr>\n    <tr>\n      <th>25</th>\n      <td>726479.0</td>\n      <td>629108.0</td>\n      <td>0.865969</td>\n    </tr>\n    <tr>\n      <th>37</th>\n      <td>386357.0</td>\n      <td>328541.0</td>\n      <td>0.850356</td>\n    </tr>\n  </tbody>\n</table>\n</div>"
          },
          "metadata": {}
        }
      ],
      "execution_count": 18,
      "metadata": {
        "id": "4F08F11F51E740888CBE3A420CCE6CCD",
        "jupyter": {},
        "tags": [],
        "slideshow": {
          "slide_type": "slide"
        },
        "trusted": true,
        "collapsed": false,
        "scrolled": false
      }
    },
    {
      "cell_type": "markdown",
      "source": [
        "* 合并贷款用户贷款信息、客户基本信息、账户余额信息、入账支出信息"
      ],
      "metadata": {
        "id": "B76E3EA45306455387D054CD4B33603B",
        "jupyter": {},
        "tags": [],
        "slideshow": {
          "slide_type": "slide"
        },
        "trusted": true,
        "mdEditEnable": false
      }
    },
    {
      "cell_type": "code",
      "source": [
        "data = pd.merge(client_loan_district, balance_info,  on=\"account_id\", how=\"left\")\n",
        "data = pd.merge(data, income_out, on=\"account_id\", how=\"left\")\n",
        "data.head(3)"
      ],
      "outputs": [
        {
          "output_type": "execute_result",
          "execution_count": 19,
          "data": {
            "text/plain": "   loan_id  account_id       date  amount  duration  payments status  \\\n0     5314        1787 1993-07-05   96396        12      8033      B   \n1     5316        1801 1993-07-11  165960        36      4610      A   \n2     6863        9188 1993-07-28  127080        60      2118      A   \n\n   bad_good  disp_id  client_id  ...   A13  A14   A15   a16   avg_balance  \\\n0         1     2166       2166  ...  3.67  100  15.7  14.8  12250.000000   \n1         0     2181       2181  ...  2.31  117  12.7  11.6  43975.810811   \n2         0    11006      11314  ...  2.89  132  13.3  13.6  30061.041667   \n\n   stdev_balance  cv_balance    income       out  rate_out_in  \n0    8330.866301    0.680071   20100.0       0.0     0.000000  \n1   25468.748605    0.579154  243576.0  164004.0     0.673318  \n2   11520.127013    0.383224   75146.0   54873.0     0.730219  \n\n[3 rows x 31 columns]",
            "text/html": "<div>\n<style scoped>\n    .dataframe tbody tr th:only-of-type {\n        vertical-align: middle;\n    }\n\n    .dataframe tbody tr th {\n        vertical-align: top;\n    }\n\n    .dataframe thead th {\n        text-align: right;\n    }\n</style>\n<table border=\"1\" class=\"dataframe\">\n  <thead>\n    <tr style=\"text-align: right;\">\n      <th></th>\n      <th>loan_id</th>\n      <th>account_id</th>\n      <th>date</th>\n      <th>amount</th>\n      <th>duration</th>\n      <th>payments</th>\n      <th>status</th>\n      <th>bad_good</th>\n      <th>disp_id</th>\n      <th>client_id</th>\n      <th>...</th>\n      <th>A13</th>\n      <th>A14</th>\n      <th>A15</th>\n      <th>a16</th>\n      <th>avg_balance</th>\n      <th>stdev_balance</th>\n      <th>cv_balance</th>\n      <th>income</th>\n      <th>out</th>\n      <th>rate_out_in</th>\n    </tr>\n  </thead>\n  <tbody>\n    <tr>\n      <th>0</th>\n      <td>5314</td>\n      <td>1787</td>\n      <td>1993-07-05</td>\n      <td>96396</td>\n      <td>12</td>\n      <td>8033</td>\n      <td>B</td>\n      <td>1</td>\n      <td>2166</td>\n      <td>2166</td>\n      <td>...</td>\n      <td>3.67</td>\n      <td>100</td>\n      <td>15.7</td>\n      <td>14.8</td>\n      <td>12250.000000</td>\n      <td>8330.866301</td>\n      <td>0.680071</td>\n      <td>20100.0</td>\n      <td>0.0</td>\n      <td>0.000000</td>\n    </tr>\n    <tr>\n      <th>1</th>\n      <td>5316</td>\n      <td>1801</td>\n      <td>1993-07-11</td>\n      <td>165960</td>\n      <td>36</td>\n      <td>4610</td>\n      <td>A</td>\n      <td>0</td>\n      <td>2181</td>\n      <td>2181</td>\n      <td>...</td>\n      <td>2.31</td>\n      <td>117</td>\n      <td>12.7</td>\n      <td>11.6</td>\n      <td>43975.810811</td>\n      <td>25468.748605</td>\n      <td>0.579154</td>\n      <td>243576.0</td>\n      <td>164004.0</td>\n      <td>0.673318</td>\n    </tr>\n    <tr>\n      <th>2</th>\n      <td>6863</td>\n      <td>9188</td>\n      <td>1993-07-28</td>\n      <td>127080</td>\n      <td>60</td>\n      <td>2118</td>\n      <td>A</td>\n      <td>0</td>\n      <td>11006</td>\n      <td>11314</td>\n      <td>...</td>\n      <td>2.89</td>\n      <td>132</td>\n      <td>13.3</td>\n      <td>13.6</td>\n      <td>30061.041667</td>\n      <td>11520.127013</td>\n      <td>0.383224</td>\n      <td>75146.0</td>\n      <td>54873.0</td>\n      <td>0.730219</td>\n    </tr>\n  </tbody>\n</table>\n<p>3 rows × 31 columns</p>\n</div>"
          },
          "metadata": {}
        }
      ],
      "execution_count": 19,
      "metadata": {
        "id": "B3F1BB85DF3F44BC93A26838767A8D1E",
        "jupyter": {},
        "tags": [],
        "slideshow": {
          "slide_type": "slide"
        },
        "trusted": true,
        "collapsed": false,
        "scrolled": false
      }
    },
    {
      "cell_type": "markdown",
      "source": [
        "* 计算贷存比、贷收比\n",
        "如果贷款的金额远远高于自己的收入，就有可能最后还不上，所以需要求出货存比与贷收比来判断"
      ],
      "metadata": {
        "id": "305511EB687B442D9B6DC9627FB8AE70",
        "jupyter": {},
        "tags": [],
        "slideshow": {
          "slide_type": "slide"
        },
        "trusted": true,
        "mdEditEnable": false
      }
    },
    {
      "cell_type": "code",
      "source": [
        "# 贷存比 = 贷款项/平均资产\n",
        "data['rate_loan_balance'] = data[['amount','avg_balance']].apply(lambda x: x[0]/x[1], axis=1)\n",
        "# 贷收比 = 贷款项/平均收入\n",
        "data['rate_loan_income'] = data[['amount','income']].apply(lambda x: x[0]/x[1], axis=1)\n",
        "print('样本总量：',data.shape[0])\n",
        "data.head(3)"
      ],
      "outputs": [
        {
          "output_type": "stream",
          "name": "stdout",
          "text": [
            "样本总量： 827\n"
          ]
        },
        {
          "output_type": "execute_result",
          "execution_count": 20,
          "data": {
            "text/plain": "   loan_id  account_id       date  amount  duration  payments status  \\\n0     5314        1787 1993-07-05   96396        12      8033      B   \n1     5316        1801 1993-07-11  165960        36      4610      A   \n2     6863        9188 1993-07-28  127080        60      2118      A   \n\n   bad_good  disp_id  client_id  ...   A15   a16   avg_balance  stdev_balance  \\\n0         1     2166       2166  ...  15.7  14.8  12250.000000    8330.866301   \n1         0     2181       2181  ...  12.7  11.6  43975.810811   25468.748605   \n2         0    11006      11314  ...  13.3  13.6  30061.041667   11520.127013   \n\n   cv_balance    income       out  rate_out_in  rate_loan_balance  \\\n0    0.680071   20100.0       0.0     0.000000           7.869061   \n1    0.579154  243576.0  164004.0     0.673318           3.773893   \n2    0.383224   75146.0   54873.0     0.730219           4.227398   \n\n   rate_loan_income  \n0          4.795821  \n1          0.681348  \n2          1.691108  \n\n[3 rows x 33 columns]",
            "text/html": "<div>\n<style scoped>\n    .dataframe tbody tr th:only-of-type {\n        vertical-align: middle;\n    }\n\n    .dataframe tbody tr th {\n        vertical-align: top;\n    }\n\n    .dataframe thead th {\n        text-align: right;\n    }\n</style>\n<table border=\"1\" class=\"dataframe\">\n  <thead>\n    <tr style=\"text-align: right;\">\n      <th></th>\n      <th>loan_id</th>\n      <th>account_id</th>\n      <th>date</th>\n      <th>amount</th>\n      <th>duration</th>\n      <th>payments</th>\n      <th>status</th>\n      <th>bad_good</th>\n      <th>disp_id</th>\n      <th>client_id</th>\n      <th>...</th>\n      <th>A15</th>\n      <th>a16</th>\n      <th>avg_balance</th>\n      <th>stdev_balance</th>\n      <th>cv_balance</th>\n      <th>income</th>\n      <th>out</th>\n      <th>rate_out_in</th>\n      <th>rate_loan_balance</th>\n      <th>rate_loan_income</th>\n    </tr>\n  </thead>\n  <tbody>\n    <tr>\n      <th>0</th>\n      <td>5314</td>\n      <td>1787</td>\n      <td>1993-07-05</td>\n      <td>96396</td>\n      <td>12</td>\n      <td>8033</td>\n      <td>B</td>\n      <td>1</td>\n      <td>2166</td>\n      <td>2166</td>\n      <td>...</td>\n      <td>15.7</td>\n      <td>14.8</td>\n      <td>12250.000000</td>\n      <td>8330.866301</td>\n      <td>0.680071</td>\n      <td>20100.0</td>\n      <td>0.0</td>\n      <td>0.000000</td>\n      <td>7.869061</td>\n      <td>4.795821</td>\n    </tr>\n    <tr>\n      <th>1</th>\n      <td>5316</td>\n      <td>1801</td>\n      <td>1993-07-11</td>\n      <td>165960</td>\n      <td>36</td>\n      <td>4610</td>\n      <td>A</td>\n      <td>0</td>\n      <td>2181</td>\n      <td>2181</td>\n      <td>...</td>\n      <td>12.7</td>\n      <td>11.6</td>\n      <td>43975.810811</td>\n      <td>25468.748605</td>\n      <td>0.579154</td>\n      <td>243576.0</td>\n      <td>164004.0</td>\n      <td>0.673318</td>\n      <td>3.773893</td>\n      <td>0.681348</td>\n    </tr>\n    <tr>\n      <th>2</th>\n      <td>6863</td>\n      <td>9188</td>\n      <td>1993-07-28</td>\n      <td>127080</td>\n      <td>60</td>\n      <td>2118</td>\n      <td>A</td>\n      <td>0</td>\n      <td>11006</td>\n      <td>11314</td>\n      <td>...</td>\n      <td>13.3</td>\n      <td>13.6</td>\n      <td>30061.041667</td>\n      <td>11520.127013</td>\n      <td>0.383224</td>\n      <td>75146.0</td>\n      <td>54873.0</td>\n      <td>0.730219</td>\n      <td>4.227398</td>\n      <td>1.691108</td>\n    </tr>\n  </tbody>\n</table>\n<p>3 rows × 33 columns</p>\n</div>"
          },
          "metadata": {}
        }
      ],
      "execution_count": 20,
      "metadata": {
        "id": "AEBA0F4B8EFA489388BDFA62DFA6EFC0",
        "jupyter": {},
        "tags": [],
        "slideshow": {
          "slide_type": "slide"
        },
        "trusted": true,
        "collapsed": false,
        "scrolled": false
      }
    },
    {
      "cell_type": "markdown",
      "source": [
        "## 数据清洗及特征选取"
      ],
      "metadata": {
        "id": "6312D56414744F3F897F65CC919CFDBC",
        "jupyter": {},
        "tags": [],
        "slideshow": {
          "slide_type": "slide"
        },
        "trusted": true,
        "mdEditEnable": false
      }
    },
    {
      "cell_type": "code",
      "source": [
        "data.info()"
      ],
      "outputs": [
        {
          "output_type": "stream",
          "name": "stdout",
          "text": [
            "<class 'pandas.core.frame.DataFrame'>\n",
            "Int64Index: 827 entries, 0 to 826\n",
            "Data columns (total 33 columns):\n",
            "loan_id              827 non-null int64\n",
            "account_id           827 non-null int64\n",
            "date                 827 non-null datetime64[ns]\n",
            "amount               827 non-null int64\n",
            "duration             827 non-null int64\n",
            "payments             827 non-null int64\n",
            "status               827 non-null object\n",
            "bad_good             827 non-null int64\n",
            "disp_id              827 non-null int64\n",
            "client_id            827 non-null int64\n",
            "type                 827 non-null object\n",
            "sex                  827 non-null object\n",
            "birth_date           827 non-null datetime64[ns]\n",
            "district_id          827 non-null int64\n",
            "age                  827 non-null float64\n",
            "A1                   827 non-null int64\n",
            "GDP                  827 non-null int64\n",
            "A4                   827 non-null int64\n",
            "A10                  827 non-null float64\n",
            "A11                  827 non-null int64\n",
            "A12                  818 non-null float64\n",
            "A13                  827 non-null float64\n",
            "A14                  827 non-null int64\n",
            "A15                  818 non-null float64\n",
            "a16                  827 non-null float64\n",
            "avg_balance          827 non-null float64\n",
            "stdev_balance        827 non-null float64\n",
            "cv_balance           827 non-null float64\n",
            "income               827 non-null float64\n",
            "out                  827 non-null float64\n",
            "rate_out_in          827 non-null float64\n",
            "rate_loan_balance    827 non-null float64\n",
            "rate_loan_income     827 non-null float64\n",
            "dtypes: datetime64[ns](2), float64(14), int64(14), object(3)\n",
            "memory usage: 219.7+ KB\n"
          ]
        }
      ],
      "execution_count": 21,
      "metadata": {
        "id": "DFFBB5F9FDFA45AF89935FEB7B31C285",
        "jupyter": {},
        "tags": [],
        "slideshow": {
          "slide_type": "slide"
        },
        "trusted": true,
        "collapsed": false,
        "scrolled": false
      }
    },
    {
      "cell_type": "markdown",
      "source": [
        "### 缺失值处理\n",
        "* 查看存在数据缺失的字段"
      ],
      "metadata": {
        "id": "3C3E13ED4413462A8CC35C30A2EE90C7",
        "jupyter": {},
        "tags": [],
        "slideshow": {
          "slide_type": "slide"
        },
        "trusted": true,
        "mdEditEnable": false
      }
    },
    {
      "cell_type": "code",
      "source": [
        "na = data.isnull().sum()/len(data)\n",
        "na = na.reset_index()\n",
        "na.rename(columns={0:'rate'}, inplace=True)\n",
        "na[na['rate'] > 0]"
      ],
      "outputs": [
        {
          "output_type": "execute_result",
          "execution_count": 22,
          "data": {
            "text/plain": "   index      rate\n20   A12  0.010883\n23   A15  0.010883",
            "text/html": "<div>\n<style scoped>\n    .dataframe tbody tr th:only-of-type {\n        vertical-align: middle;\n    }\n\n    .dataframe tbody tr th {\n        vertical-align: top;\n    }\n\n    .dataframe thead th {\n        text-align: right;\n    }\n</style>\n<table border=\"1\" class=\"dataframe\">\n  <thead>\n    <tr style=\"text-align: right;\">\n      <th></th>\n      <th>index</th>\n      <th>rate</th>\n    </tr>\n  </thead>\n  <tbody>\n    <tr>\n      <th>20</th>\n      <td>A12</td>\n      <td>0.010883</td>\n    </tr>\n    <tr>\n      <th>23</th>\n      <td>A15</td>\n      <td>0.010883</td>\n    </tr>\n  </tbody>\n</table>\n</div>"
          },
          "metadata": {}
        }
      ],
      "execution_count": 22,
      "metadata": {
        "id": "764BD01D966B4D938371F4EEDD85E6F2",
        "jupyter": {},
        "tags": [],
        "slideshow": {
          "slide_type": "slide"
        },
        "trusted": true,
        "collapsed": false,
        "scrolled": false
      }
    },
    {
      "cell_type": "markdown",
      "source": [
        "1995年失业率A12、1995年犯罪率A15各存在1%的数据缺失，连续型数据类型可用中位数填充"
      ],
      "metadata": {
        "id": "F9870946CC0E447788BF440920DE73A4",
        "jupyter": {},
        "tags": [],
        "slideshow": {
          "slide_type": "slide"
        },
        "trusted": true,
        "mdEditEnable": false
      }
    },
    {
      "cell_type": "code",
      "source": [
        "data['A12'].fillna(data['A12'].median(), inplace=True)"
      ],
      "outputs": [],
      "execution_count": 23,
      "metadata": {
        "id": "17E9895388AE4423852551DA9E82E3BC",
        "jupyter": {},
        "tags": [],
        "slideshow": {
          "slide_type": "slide"
        },
        "trusted": true,
        "collapsed": false,
        "scrolled": false,
        "mdEditEnable": false
      }
    },
    {
      "cell_type": "markdown",
      "source": [
        "### 变量梳理"
      ],
      "metadata": {
        "id": "38D506D8DE3C48DAA8DC496A1509B8BA",
        "jupyter": {},
        "tags": [],
        "slideshow": {
          "slide_type": "slide"
        },
        "trusted": true,
        "mdEditEnable": false
      }
    },
    {
      "cell_type": "code",
      "source": [
        "#因变量\n",
        "y = 'bad_good'\n",
        "\n",
        "#连续变量：\n",
        "var_c = ['amount', 'duration', 'payments', 'age', \n",
        "        'GDP', 'A4', 'A10', 'A11', 'A12', 'A13', 'A14', 'A15', 'a16',  \n",
        "        'avg_balance','stdev_balance', 'cv_balance', \n",
        "        'income', 'out', 'rate_out_in', \n",
        "        'rate_loan_balance', 'rate_loan_income']\n",
        "\n",
        "# 分类变量：性别 \n",
        "var_d = ['sex']"
      ],
      "outputs": [],
      "execution_count": 24,
      "metadata": {
        "id": "18441D33B0BD45968F66D060356E7648",
        "jupyter": {},
        "tags": [],
        "slideshow": {
          "slide_type": "slide"
        },
        "trusted": true,
        "collapsed": false,
        "scrolled": false
      }
    },
    {
      "cell_type": "code",
      "source": [
        "# 二值化性别变量\n",
        "data['sex'] = data.sex.map({'男':1,'女':0})"
      ],
      "outputs": [],
      "execution_count": 25,
      "metadata": {
        "id": "83E208FE23384F4E814E2A5E62BFD71F",
        "jupyter": {},
        "tags": [],
        "slideshow": {
          "slide_type": "slide"
        },
        "trusted": true,
        "collapsed": false,
        "scrolled": false
      }
    },
    {
      "cell_type": "markdown",
      "source": [
        "变量相关性查看"
      ],
      "metadata": {
        "id": "A91674E769B44F508800F3FA04CF4D9A",
        "jupyter": {},
        "tags": [],
        "slideshow": {
          "slide_type": "slide"
        },
        "trusted": true,
        "collapsed": false,
        "scrolled": false,
        "mdEditEnable": false
      }
    },
    {
      "cell_type": "code",
      "source": [
        "import seaborn as sns\n",
        "import matplotlib.pyplot as plt\n",
        "\n",
        "corr = data[var_c + var_d].corr()\n",
        "plt.figure(figsize=(13,10))\n",
        "sns.heatmap(corr, vmax=1, annot=True, cmap='PiYG')\n",
        "plt.show()"
      ],
      "outputs": [
        {
          "output_type": "display_data",
          "data": {
            "text/plain": "<Figure size 1300x1000 with 2 Axes>"
          },
          "metadata": {}
        }
      ],
      "execution_count": 26,
      "metadata": {
        "id": "65CE1C9DBB024EFF800E0AD4532E2CD3",
        "jupyter": {},
        "tags": [],
        "slideshow": {
          "slide_type": "slide"
        },
        "trusted": true,
        "collapsed": false,
        "scrolled": false
      }
    },
    {
      "cell_type": "markdown",
      "source": [
        "### 特征变量调整\n",
        "由热力图所示，发现很多变量之间存在高度相关性。需要在各信息类型种有选择的选取特征变量。\n",
        "* 用户贷款状况：贷款金额(`amount`)与每月归还额(`payments`)呈现较强的正相关性，所以保留变量`amount`、`duration`;\n",
        "* 用户居住地区状况：\n",
        "\t*反应地区的经济状况的GDP总量与平均工资（`A11`）、1000人中有多少企业家（`A14`）、1995犯罪率(`A15`)、1996犯罪率（`a16`）呈高度正相关。所以保留GDP或者计算人均GDP来进行替代;\n",
        "\t* 1995年失业率（`A12`）、1996年失业率（`A13`）与1000人中有多少企业家（`A14`）是呈现较强的负相关关系，有必要保留失业率信息，可以通过计算失业增长率来体现：1996年失业率/1995年失业率;\n",
        "* 借款人经济状况：\n",
        "\t* 收入与支出呈现高度相关性，所以使用收入支出比（`rate_out_in`)这个变量来反应**客户的消费水平**；\n",
        "\t* 资产余额的波动情况用之前计算好的标准差(`stdev_balance`)、变异系数变量（`cv_balance`）来表示。"
      ],
      "metadata": {
        "id": "42B86AE638254BBF9E5ACA27381DBAC0",
        "jupyter": {},
        "tags": [],
        "slideshow": {
          "slide_type": "slide"
        },
        "trusted": true,
        "mdEditEnable": false
      }
    },
    {
      "cell_type": "code",
      "source": [
        "data['avg_gdp'] = data[['GDP','A11']].apply(lambda x: x[0]/x[1], axis= 1)\n",
        "data['rate_unemploy_increase'] =  data[['A12','A13']].apply(lambda x: x[1]/x[0], axis= 1)"
      ],
      "outputs": [],
      "execution_count": 27,
      "metadata": {
        "id": "4025F89CF73F4E5992654988333656E7",
        "jupyter": {},
        "tags": [],
        "slideshow": {
          "slide_type": "slide"
        },
        "trusted": true,
        "collapsed": false,
        "scrolled": false
      }
    },
    {
      "cell_type": "code",
      "source": [
        "#因变量\n",
        "y = 'bad_good'\n",
        "\n",
        "#变量\n",
        "var = ['amount', 'duration',                           # 贷款信息\n",
        "        'age', 'sex',                                  # 贷款时年龄、贷款人性别\n",
        "        'avg_gdp', 'rate_unemploy_increase', 'A14',    # 居住地人均GDP,失业增长率,千人企业家数\n",
        "        'stdev_balance', 'cv_balance', 'rate_out_in',  # 资产余额（生活稳定性），收支比（消费水平）\n",
        "        'rate_loan_balance', 'rate_loan_income'        # 贷存比，贷收比\n",
        "        ]"
      ],
      "outputs": [],
      "execution_count": 28,
      "metadata": {
        "id": "51B5E2B93FEC4300A0C1F8F617DC2B53",
        "jupyter": {},
        "tags": [],
        "slideshow": {
          "slide_type": "slide"
        },
        "trusted": true,
        "collapsed": false,
        "scrolled": false
      }
    },
    {
      "cell_type": "markdown",
      "source": [
        "* 查看调整后的变量相关性"
      ],
      "metadata": {
        "id": "F7596C7D1247459CA36F8EDE22016145",
        "jupyter": {},
        "tags": [],
        "slideshow": {
          "slide_type": "slide"
        },
        "trusted": true,
        "collapsed": false,
        "scrolled": false,
        "mdEditEnable": false
      }
    },
    {
      "cell_type": "code",
      "source": [
        "corr = data[var].corr()\n",
        "plt.figure(figsize=(6,5))\n",
        "sns.heatmap(corr, vmax=1, annot=True, cmap='PiYG')\n",
        "plt.show()"
      ],
      "outputs": [
        {
          "output_type": "display_data",
          "data": {
            "text/plain": "<Figure size 432x360 with 2 Axes>",
            "text/html": "<img src=\"https://cdn.kesci.com/rt_upload/AB345E9916744147ACA0FAC41043F46A/qieny5ov2o.png\">"
          },
          "metadata": {
            "needs_background": "light"
          }
        }
      ],
      "execution_count": 29,
      "metadata": {
        "id": "AB345E9916744147ACA0FAC41043F46A",
        "jupyter": {},
        "tags": [],
        "slideshow": {
          "slide_type": "slide"
        },
        "trusted": true,
        "collapsed": false,
        "scrolled": false
      }
    },
    {
      "cell_type": "markdown",
      "source": [
        "## 建立分析模型\n",
        "此处使用常用的逻辑回归模型做二分类预测。\n",
        "### 制作训练集与测试集数据"
      ],
      "metadata": {
        "id": "7FAB3909EB2149938CAC9089BF4753EA",
        "jupyter": {},
        "tags": [],
        "slideshow": {
          "slide_type": "slide"
        },
        "trusted": true,
        "collapsed": false,
        "scrolled": false,
        "mdEditEnable": false
      }
    },
    {
      "cell_type": "code",
      "source": [
        "selected_data = data[var+[y]]\n",
        "\n",
        "# C类状态为合同还在执行期且还未出现逾期的借款人样本，提取C类用于预测\n",
        "# 剩余样本用于模型训练与测试\n",
        "# 无违约行为：'A':0，有违约行为：'B':1,'D':1，待定：'C':2\n",
        "data_model = selected_data[selected_data.bad_good != 2]\n",
        "data_predict = selected_data[selected_data.bad_good == 2]\n",
        "\n",
        "print(data_predict.shape[0],'个账户待定')"
      ],
      "outputs": [
        {
          "output_type": "stream",
          "name": "stdout",
          "text": [
            "493 个账户待定\n"
          ]
        }
      ],
      "execution_count": 30,
      "metadata": {
        "id": "72B042620A3D4E0B858FAAE1879AD8D3",
        "jupyter": {},
        "tags": [],
        "slideshow": {
          "slide_type": "slide"
        },
        "trusted": true,
        "collapsed": false,
        "scrolled": false
      }
    },
    {
      "cell_type": "markdown",
      "source": [
        "**样本平衡性检查**\n",
        "用于模型训练与测试的数据样本量：\n",
        "* 负样本 0（贷款还款正常）：258个\n",
        "* 正样本 1（贷款还款违约）：76个\n",
        "\n",
        "正样本占整体样本的23%"
      ],
      "metadata": {
        "id": "5AC8D0E77F4D4FA589674C33441F9B89",
        "jupyter": {},
        "tags": [],
        "slideshow": {
          "slide_type": "slide"
        },
        "trusted": true,
        "mdEditEnable": false
      }
    },
    {
      "cell_type": "code",
      "source": [
        "data_model.groupby(by = [y]).size()"
      ],
      "outputs": [
        {
          "output_type": "execute_result",
          "execution_count": 31,
          "data": {
            "text/plain": "bad_good\n0    258\n1     76\ndtype: int64"
          },
          "metadata": {}
        }
      ],
      "execution_count": 31,
      "metadata": {
        "id": "AB9E4E8C068D465C9E76098D1D82AEC0",
        "jupyter": {},
        "tags": [],
        "slideshow": {
          "slide_type": "slide"
        },
        "trusted": true,
        "collapsed": false,
        "scrolled": false
      }
    },
    {
      "cell_type": "markdown",
      "source": [
        "#### 方式一：整体随机抽样制作训练集与测试集\n",
        "缺点：训练集与测试集中正负样本的比例并不一定和原始分布一致，正样本占总体样本共23%。如果仅是随机抽样这很大概率会出现训练集与测试集中正样本的占比过多或过小，造成训练集模型在训练学习的时候没能更好的学习到正样本的特征造成欠拟合，反之则过拟合。\n",
        "改善：手动平衡分布"
      ],
      "metadata": {
        "id": "0FB5F7759A9240D29C4F22975A858707",
        "jupyter": {},
        "tags": [],
        "slideshow": {
          "slide_type": "slide"
        },
        "trusted": true,
        "collapsed": false,
        "mdEditEnable": false
      }
    },
    {
      "cell_type": "code",
      "source": [
        "# from sklearn.model_selection import train_test_split\n",
        "\n",
        "# X = np.array(data_model[var])\n",
        "# Y = np.array(data_model[[y]])\n",
        "\n",
        "# x_train, x_test, y_train, y_test = train_test_split(X, Y, test_size = 0.25, random_state = 22)\n",
        "\n",
        "# print(\"训练集样本量：{},测试集样本量{}\".format(x_train.shape[0], x_test.shape[0]))"
      ],
      "outputs": [],
      "execution_count": 32,
      "metadata": {
        "id": "5BD54FF2C2F148E4BE1BB7F5E74855FE",
        "jupyter": {},
        "tags": [],
        "slideshow": {
          "slide_type": "slide"
        },
        "trusted": true,
        "collapsed": false,
        "scrolled": false
      }
    },
    {
      "cell_type": "markdown",
      "source": [
        "#### 方式二：手动平衡训练集与测试集的正负样本比例"
      ],
      "metadata": {
        "id": "6AEB41E6A5EE4C2590B7A6EE5D28219F",
        "jupyter": {},
        "tags": [],
        "slideshow": {
          "slide_type": "slide"
        },
        "trusted": true,
        "mdEditEnable": false
      }
    },
    {
      "cell_type": "code",
      "source": [
        "import random\n",
        "\n",
        "selected_test_sample_indices = {}\n",
        "selected_train_sample_indicies = {}\n",
        "\n",
        "for label in range(2):\n",
        "    label_data = data_model[data_model[y] == label]\n",
        "    selected_test_sample_indices[label] = random.sample(set(label_data.index), int(len(label_data)*0.3))\n",
        "\n",
        "for label in range(2):\n",
        "    label_data = data_model[data_model[y] == label]\n",
        "    selected_train_sample_indicies[label] = list(set(label_data.index)- set(selected_test_sample_indices[label]))\n",
        "    "
      ],
      "outputs": [],
      "execution_count": 33,
      "metadata": {
        "id": "0A25E41FF2FB48CCA8004F2F85E30461",
        "jupyter": {},
        "tags": [],
        "slideshow": {
          "slide_type": "slide"
        },
        "trusted": true,
        "collapsed": false,
        "scrolled": false
      }
    },
    {
      "cell_type": "code",
      "source": [
        "train_data_indicies, test_data_indicies = [],[]\n",
        "\n",
        "# 训练集的所有类别下标\n",
        "for label,indicies in selected_train_sample_indicies.items():\n",
        "    train_data_indicies = train_data_indicies + indicies # merge 2 list\n",
        "# 测试集的所有类别下标\n",
        "for label,indicies in selected_test_sample_indices.items():\n",
        "    test_data_indicies = test_data_indicies + indicies"
      ],
      "outputs": [],
      "execution_count": 34,
      "metadata": {
        "id": "AC9E11FF6A1946249819ABCEE09E70D5",
        "jupyter": {},
        "tags": [],
        "slideshow": {
          "slide_type": "slide"
        },
        "trusted": true,
        "collapsed": false,
        "scrolled": false
      }
    },
    {
      "cell_type": "code",
      "source": [
        "y_train = np.array(data_model[data_model.index.isin(train_data_indicies)][[y]])\n",
        "x_train = np.array(data_model[data_model.index.isin(train_data_indicies)][var])\n",
        "\n",
        "y_test = np.array(data_model[data_model.index.isin(test_data_indicies)][[y]])\n",
        "x_test = np.array(data_model[data_model.index.isin(test_data_indicies)][var])\n",
        "\n",
        "print(\"训练集样本量：{},测试集样本量{}\".format(x_train.shape[0], x_test.shape[0]))"
      ],
      "outputs": [
        {
          "output_type": "stream",
          "name": "stdout",
          "text": [
            "训练集样本量：235,测试集样本量99\n"
          ]
        }
      ],
      "execution_count": 35,
      "metadata": {
        "id": "3766E24469CC44D68E6A4EBD64C8BD9D",
        "jupyter": {},
        "tags": [],
        "slideshow": {
          "slide_type": "slide"
        },
        "trusted": true,
        "collapsed": false,
        "scrolled": false
      }
    },
    {
      "cell_type": "markdown",
      "source": [
        "## 模型训练\n",
        "此处，我们采用L1正则化来减缓过拟合的问题，L1会保留最重要的变量。关于L1与L2的区别可以参考：[L1/L2正则化](https://zhuanlan.zhihu.com/p/25707761)"
      ],
      "metadata": {
        "id": "102E85691AC34AB18AD06EAE180D6775",
        "jupyter": {},
        "tags": [],
        "slideshow": {
          "slide_type": "slide"
        },
        "trusted": true,
        "mdEditEnable": false
      }
    },
    {
      "cell_type": "code",
      "source": [
        "from sklearn.linear_model import LogisticRegression\n",
        "from sklearn.model_selection import cross_val_predict # 交叉验证\n",
        "from sklearn.metrics import accuracy_score\n",
        "\n",
        "\n",
        "lr = LogisticRegression(penalty='l1')\n",
        "predictions = cross_val_predict(lr, x_train, y_train, cv=10) # Kfold = 10(交叉验证)\n",
        "print('训练集Accuracy Score: %.2f' % accuracy_score(y_train, predictions))\n",
        "\n",
        "\n",
        "clf = lr.fit(x_train,y_train) # 开始训练\n",
        "y_pred = clf.predict(x_test)  # 开始预测\n",
        "\n",
        "# 模型的表现\n",
        "print('Score: %.2f' % clf.score(x_test, y_test))"
      ],
      "outputs": [
        {
          "output_type": "stream",
          "name": "stdout",
          "text": [
            "训练集Accuracy Score: 0.88\n",
            "Score: 0.88\n"
          ]
        },
        {
          "output_type": "stream",
          "name": "stderr",
          "text": [
            "/opt/conda/lib/python3.6/site-packages/sklearn/utils/validation.py:724: DataConversionWarning: A column-vector y was passed when a 1d array was expected. Please change the shape of y to (n_samples, ), for example using ravel().\n",
            "  y = column_or_1d(y, warn=True)\n",
            "/opt/conda/lib/python3.6/site-packages/sklearn/utils/validation.py:724: DataConversionWarning: A column-vector y was passed when a 1d array was expected. Please change the shape of y to (n_samples, ), for example using ravel().\n",
            "  y = column_or_1d(y, warn=True)\n",
            "/opt/conda/lib/python3.6/site-packages/sklearn/utils/validation.py:724: DataConversionWarning: A column-vector y was passed when a 1d array was expected. Please change the shape of y to (n_samples, ), for example using ravel().\n",
            "  y = column_or_1d(y, warn=True)\n",
            "/opt/conda/lib/python3.6/site-packages/sklearn/utils/validation.py:724: DataConversionWarning: A column-vector y was passed when a 1d array was expected. Please change the shape of y to (n_samples, ), for example using ravel().\n",
            "  y = column_or_1d(y, warn=True)\n",
            "/opt/conda/lib/python3.6/site-packages/sklearn/utils/validation.py:724: DataConversionWarning: A column-vector y was passed when a 1d array was expected. Please change the shape of y to (n_samples, ), for example using ravel().\n",
            "  y = column_or_1d(y, warn=True)\n",
            "/opt/conda/lib/python3.6/site-packages/sklearn/utils/validation.py:724: DataConversionWarning: A column-vector y was passed when a 1d array was expected. Please change the shape of y to (n_samples, ), for example using ravel().\n",
            "  y = column_or_1d(y, warn=True)\n",
            "/opt/conda/lib/python3.6/site-packages/sklearn/utils/validation.py:724: DataConversionWarning: A column-vector y was passed when a 1d array was expected. Please change the shape of y to (n_samples, ), for example using ravel().\n",
            "  y = column_or_1d(y, warn=True)\n",
            "/opt/conda/lib/python3.6/site-packages/sklearn/utils/validation.py:724: DataConversionWarning: A column-vector y was passed when a 1d array was expected. Please change the shape of y to (n_samples, ), for example using ravel().\n",
            "  y = column_or_1d(y, warn=True)\n",
            "/opt/conda/lib/python3.6/site-packages/sklearn/utils/validation.py:724: DataConversionWarning: A column-vector y was passed when a 1d array was expected. Please change the shape of y to (n_samples, ), for example using ravel().\n",
            "  y = column_or_1d(y, warn=True)\n",
            "/opt/conda/lib/python3.6/site-packages/sklearn/utils/validation.py:724: DataConversionWarning: A column-vector y was passed when a 1d array was expected. Please change the shape of y to (n_samples, ), for example using ravel().\n",
            "  y = column_or_1d(y, warn=True)\n",
            "/opt/conda/lib/python3.6/site-packages/sklearn/utils/validation.py:724: DataConversionWarning: A column-vector y was passed when a 1d array was expected. Please change the shape of y to (n_samples, ), for example using ravel().\n",
            "  y = column_or_1d(y, warn=True)\n"
          ]
        }
      ],
      "execution_count": 36,
      "metadata": {
        "id": "633D5A8CEC80412ABFE32414B1E9E51C",
        "jupyter": {},
        "tags": [],
        "slideshow": {
          "slide_type": "slide"
        },
        "trusted": true,
        "collapsed": false,
        "scrolled": true
      }
    },
    {
      "cell_type": "markdown",
      "source": [
        "查看在决策函数中各特征变量的系数，发现申请贷款前一年的贷存比（`rate_loan_balance`）、贷款期限（`duration`）、贷款年龄（`age`）、资产变异系数（`cv_balance`）、资产余额标准差（`stdev_balance`）与违约**正相关**。贷款金额(`amount`）、人均GDP（`avg_gdp`）、贷款者当地1000人中有多少企业家（`A14`）、贷款者当地失业增长率（`rate_unemploy_increase`)、收支比（`rate_out_in`）与违约**负相关**。"
      ],
      "metadata": {
        "id": "0F43131CFB134915BEFCC11A54D5F8A6",
        "jupyter": {},
        "tags": [],
        "slideshow": {
          "slide_type": "slide"
        },
        "trusted": true,
        "mdEditEnable": false
      }
    },
    {
      "cell_type": "code",
      "source": [
        "coef = clf.coef_[0]\n",
        "var_coef = dict(zip(var, coef))\n",
        "sorted_var_coef = {k: v for k, v in sorted(var_coef.items(), key=lambda x: x[1])}\n",
        "\n",
        "for x in sorted_var_coef.items():\n",
        "    print('变量:{} 系数:{}'.format(x[0],x[1]))"
      ],
      "outputs": [
        {
          "output_type": "stream",
          "name": "stdout",
          "text": [
            "变量:rate_out_in 系数:-0.7672370629849472\n",
            "变量:rate_unemploy_increase 系数:-0.2053521331258804\n",
            "变量:sex 系数:-0.10729222147860155\n",
            "变量:A14 系数:-0.028963021027650346\n",
            "变量:rate_loan_income 系数:-0.011233679321989735\n",
            "变量:amount 系数:-1.8009923415493877e-05\n",
            "变量:cv_balance 系数:0.0\n",
            "变量:stdev_balance 系数:0.00017221390881922016\n",
            "变量:age 系数:0.017540577793697023\n",
            "变量:duration 系数:0.04591489790110804\n",
            "变量:avg_gdp 系数:0.062164711051647725\n",
            "变量:rate_loan_balance 系数:0.9962522129976491\n"
          ]
        }
      ],
      "execution_count": 37,
      "metadata": {
        "id": "6B47E8DB6103490DAA042A5F9AC19BCD",
        "jupyter": {},
        "tags": [],
        "slideshow": {
          "slide_type": "slide"
        },
        "trusted": true,
        "collapsed": false,
        "scrolled": false
      }
    },
    {
      "cell_type": "markdown",
      "source": [
        "## 模型效果评估\n",
        "\n",
        "模型的精确率（预测正样本预测的准确度），召回率（查全率），f1_score如图所示。\n",
        "对于不平衡样本数据集，是不建议用accuracy来作为模型效果评估指标的。\n",
        "业务关注的侧重点会在TPR真正率和FPR假正率，违约的查全率。"
      ],
      "metadata": {
        "id": "1A16C89859BD4B1B90DE53190854A8CD",
        "jupyter": {},
        "tags": [],
        "slideshow": {
          "slide_type": "slide"
        },
        "trusted": true,
        "mdEditEnable": false
      }
    },
    {
      "cell_type": "code",
      "source": [
        "from sklearn.metrics import classification_report\n",
        "\n",
        "print(classification_report(y_test, y_pred))\n",
        "\n",
        "\n",
        "from sklearn.metrics import roc_curve, auc\n",
        "\n",
        "fpr, tpr, threshold = roc_curve(y_test, y_pred)\n",
        "roc_auc = auc(fpr, tpr)\n",
        "\n",
        "plt.figure(figsize=[6,6])\n",
        "plt.plot(fpr, tpr, 'r--', label='ROC curve (area = {:.2f})'.format(roc_auc))\n",
        "plt.plot([0, 1], [0, 1], color='navy',  linestyle='--')\n",
        "plt.title(\"ROC曲线\")\n",
        "plt.xlabel('False Positive Rate')\n",
        "plt.ylabel('True Positive Rate')\n",
        "plt.xlim([0.0, 1.0])\n",
        "plt.ylim([0.0, 1.0])\n",
        "plt.legend(loc=\"lower right\")\n",
        "plt.show()"
      ],
      "outputs": [
        {
          "output_type": "stream",
          "name": "stdout",
          "text": [
            "              precision    recall  f1-score   support\n",
            "\n",
            "           0       0.91      0.94      0.92        77\n",
            "           1       0.75      0.68      0.71        22\n",
            "\n",
            "    accuracy                           0.88        99\n",
            "   macro avg       0.83      0.81      0.82        99\n",
            "weighted avg       0.88      0.88      0.88        99\n",
            "\n"
          ]
        },
        {
          "output_type": "display_data",
          "data": {
            "text/plain": "<Figure size 432x432 with 1 Axes>",
            "text/html": "<img src=\"https://cdn.kesci.com/rt_upload/9C527E7ECB5F42478963CA59DD73759E/qieny5kxzb.png\">"
          },
          "metadata": {
            "needs_background": "light"
          }
        }
      ],
      "execution_count": 38,
      "metadata": {
        "id": "9C527E7ECB5F42478963CA59DD73759E",
        "jupyter": {},
        "tags": [],
        "slideshow": {
          "slide_type": "slide"
        },
        "trusted": true,
        "collapsed": false,
        "scrolled": false
      }
    },
    {
      "cell_type": "code",
      "source": [
        "print(\"模型的ROC曲线离左上角还是有段距离，曲线下面积（AUC）为{:.1f}%，\\\n",
        "说明模型的分类效果一般(0.85以上表示良好)，有改进提升空间。\\n\\\n",
        "可以考虑对不平衡的正负样本量做平衡处理，或者对模型进行更多的参数调整。\".format(100*roc_auc))"
      ],
      "outputs": [
        {
          "output_type": "stream",
          "name": "stdout",
          "text": [
            "模型的ROC曲线离左上角还是有段距离，曲线下面积（AUC）为80.8%，说明模型的分类效果一般(0.85以上表示良好)，有改进提升空间。\n",
            "可以考虑对不平衡的正负样本量做平衡处理，或者对模型进行更多的参数调整。\n"
          ]
        }
      ],
      "execution_count": 39,
      "metadata": {
        "id": "07C32481439E4C3092267842B097329F",
        "jupyter": {},
        "tags": [],
        "slideshow": {
          "slide_type": "slide"
        },
        "trusted": true,
        "mdEditEnable": false,
        "collapsed": false,
        "scrolled": false
      }
    },
    {
      "cell_type": "markdown",
      "source": [
        "## 模型参数调整（数据增强）\n",
        "\n",
        "这里会进行数据增强操作，考虑到通过新增造假数据来进行数据增强不现实也不合理，所以会通过调整正负样本的权重占比来实现。\n",
        "提高占为22.7%的负样本的权重。正样本：负样本 =~ 1:4"
      ],
      "metadata": {
        "id": "177723043BF248019A092BC83B2DA674",
        "jupyter": {},
        "tags": [],
        "slideshow": {
          "slide_type": "slide"
        },
        "trusted": true,
        "mdEditEnable": false
      }
    },
    {
      "cell_type": "code",
      "source": [
        "from sklearn.linear_model import LogisticRegression\n",
        "from sklearn.model_selection import cross_val_predict # 交叉验证\n",
        "from sklearn.metrics import accuracy_score\n",
        "\n",
        "# 数据增强，提高占为22.7%的负样本的权重。正样本：负样本 =~ 1:4\n",
        "# 正样本(违约)权重：，负样本(正常)权重\n",
        "c_w = {1:3, 0:1}\n",
        "\n",
        "lr = LogisticRegression(penalty='l1', class_weight=c_w)\n",
        "predictions = cross_val_predict(lr, x_train, y_train, cv=10) # Kfold = 10(交叉验证)\n",
        "print('训练集Accuracy Score: %.2f' % accuracy_score(y_train, predictions))\n",
        "\n",
        "\n",
        "clf = lr.fit(x_train,y_train) # 开始训练\n",
        "y_pred = clf.predict(x_test)  # 开始预测\n",
        "\n",
        "print('模型Score: %.2f' % clf.score(x_test, y_test))"
      ],
      "outputs": [
        {
          "output_type": "stream",
          "name": "stdout",
          "text": [
            "训练集Accuracy Score: 0.82\n",
            "模型Score: 0.83\n"
          ]
        },
        {
          "output_type": "stream",
          "name": "stderr",
          "text": [
            "/opt/conda/lib/python3.6/site-packages/sklearn/utils/validation.py:724: DataConversionWarning: A column-vector y was passed when a 1d array was expected. Please change the shape of y to (n_samples, ), for example using ravel().\n",
            "  y = column_or_1d(y, warn=True)\n",
            "/opt/conda/lib/python3.6/site-packages/sklearn/utils/validation.py:724: DataConversionWarning: A column-vector y was passed when a 1d array was expected. Please change the shape of y to (n_samples, ), for example using ravel().\n",
            "  y = column_or_1d(y, warn=True)\n",
            "/opt/conda/lib/python3.6/site-packages/sklearn/utils/validation.py:724: DataConversionWarning: A column-vector y was passed when a 1d array was expected. Please change the shape of y to (n_samples, ), for example using ravel().\n",
            "  y = column_or_1d(y, warn=True)\n",
            "/opt/conda/lib/python3.6/site-packages/sklearn/utils/validation.py:724: DataConversionWarning: A column-vector y was passed when a 1d array was expected. Please change the shape of y to (n_samples, ), for example using ravel().\n",
            "  y = column_or_1d(y, warn=True)\n",
            "/opt/conda/lib/python3.6/site-packages/sklearn/utils/validation.py:724: DataConversionWarning: A column-vector y was passed when a 1d array was expected. Please change the shape of y to (n_samples, ), for example using ravel().\n",
            "  y = column_or_1d(y, warn=True)\n",
            "/opt/conda/lib/python3.6/site-packages/sklearn/utils/validation.py:724: DataConversionWarning: A column-vector y was passed when a 1d array was expected. Please change the shape of y to (n_samples, ), for example using ravel().\n",
            "  y = column_or_1d(y, warn=True)\n",
            "/opt/conda/lib/python3.6/site-packages/sklearn/utils/validation.py:724: DataConversionWarning: A column-vector y was passed when a 1d array was expected. Please change the shape of y to (n_samples, ), for example using ravel().\n",
            "  y = column_or_1d(y, warn=True)\n",
            "/opt/conda/lib/python3.6/site-packages/sklearn/utils/validation.py:724: DataConversionWarning: A column-vector y was passed when a 1d array was expected. Please change the shape of y to (n_samples, ), for example using ravel().\n",
            "  y = column_or_1d(y, warn=True)\n",
            "/opt/conda/lib/python3.6/site-packages/sklearn/utils/validation.py:724: DataConversionWarning: A column-vector y was passed when a 1d array was expected. Please change the shape of y to (n_samples, ), for example using ravel().\n",
            "  y = column_or_1d(y, warn=True)\n",
            "/opt/conda/lib/python3.6/site-packages/sklearn/utils/validation.py:724: DataConversionWarning: A column-vector y was passed when a 1d array was expected. Please change the shape of y to (n_samples, ), for example using ravel().\n",
            "  y = column_or_1d(y, warn=True)\n",
            "/opt/conda/lib/python3.6/site-packages/sklearn/utils/validation.py:724: DataConversionWarning: A column-vector y was passed when a 1d array was expected. Please change the shape of y to (n_samples, ), for example using ravel().\n",
            "  y = column_or_1d(y, warn=True)\n"
          ]
        }
      ],
      "execution_count": 40,
      "metadata": {
        "id": "6E02A51EAAFE4CA3B118B5B4CAFD1885",
        "jupyter": {},
        "tags": [],
        "slideshow": {
          "slide_type": "slide"
        },
        "trusted": true,
        "collapsed": false,
        "scrolled": true
      }
    },
    {
      "cell_type": "markdown",
      "source": [
        "现在再来查看在决策函数中各特征变量的系数，发现申请贷款前一年的\n",
        "- 资产变异系数（`cv_balance`）、贷存比（`rate_loan_balance`）、贷收比（`rate_loan_income`）、人均GDP（`avg_gdp`）、贷款期限（`duration`）、贷款年龄（`age`）、资产余额标准差（`stdev_balance`）与违约**正相关**。\n",
        "- 贷款金额(`amount`）、贷款者当地1000人中有多少企业家（`A14`）、收支比（`rate_out_in`）与违约**负相关**。\n",
        "\n",
        "调整后的模型的变量系数看起来更合理，也符合预期。"
      ],
      "metadata": {
        "id": "B9AB3C324F5A4C0881AAA74764153C62",
        "jupyter": {},
        "tags": [],
        "slideshow": {
          "slide_type": "slide"
        },
        "trusted": true,
        "mdEditEnable": false
      }
    },
    {
      "cell_type": "code",
      "source": [
        "coef = clf.coef_[0]\n",
        "var_coef = dict(zip(var, coef))\n",
        "sorted_var_coef = {k: v for k, v in sorted(var_coef.items(), key=lambda x: x[1])}\n",
        "\n",
        "for x in sorted_var_coef.items():\n",
        "    print('变量:{} 系数:{}'.format(x[0],x[1]))"
      ],
      "outputs": [
        {
          "output_type": "stream",
          "name": "stdout",
          "text": [
            "变量:rate_out_in 系数:-1.1612272948937754\n",
            "变量:rate_unemploy_increase 系数:-0.20077021498496475\n",
            "变量:sex 系数:-0.09431822022948862\n",
            "变量:A14 系数:-0.01836468715967477\n",
            "变量:amount 系数:-9.644899315057778e-06\n",
            "变量:stdev_balance 系数:7.830858271106624e-05\n",
            "变量:age 系数:0.02108231103143271\n",
            "变量:avg_gdp 系数:0.03348604817465702\n",
            "变量:duration 系数:0.04403274686369934\n",
            "变量:rate_loan_income 系数:0.04572509638689259\n",
            "变量:rate_loan_balance 系数:0.6010459530475475\n",
            "变量:cv_balance 系数:5.179685255615256\n"
          ]
        }
      ],
      "execution_count": 41,
      "metadata": {
        "id": "E50D75F508434321868AB213D6DF7784",
        "jupyter": {},
        "tags": [],
        "slideshow": {
          "slide_type": "slide"
        },
        "trusted": true,
        "collapsed": false,
        "scrolled": false
      }
    },
    {
      "cell_type": "markdown",
      "source": [
        "## 调整后模型效果评估"
      ],
      "metadata": {
        "id": "012A37B441F8414DB1ECFF988D093D5C",
        "jupyter": {},
        "tags": [],
        "slideshow": {
          "slide_type": "slide"
        },
        "trusted": true,
        "mdEditEnable": false
      }
    },
    {
      "cell_type": "code",
      "source": [
        "from sklearn.metrics import classification_report\n",
        "\n",
        "print(classification_report(y_test, y_pred)) \n",
        "  \n",
        "  \n",
        "from sklearn.metrics import roc_curve, auc\n",
        "\n",
        "fpr, tpr, threshold = roc_curve(y_test, y_pred)\n",
        "roc_auc = auc(fpr, tpr)\n",
        "\n",
        "plt.figure(figsize=[6,6])\n",
        "plt.plot(fpr, tpr, 'r--', label='ROC curve (area = {:.2f})'.format(roc_auc))\n",
        "plt.plot([0, 1], [0, 1], color='navy',  linestyle='--')\n",
        "plt.title(\"ROC曲线\")\n",
        "plt.xlabel('False Positive Rate')\n",
        "plt.ylabel('True Positive Rate')\n",
        "plt.xlim([0.0, 1.0])\n",
        "plt.ylim([0.0, 1.0])\n",
        "plt.legend(loc=\"lower right\")\n",
        "plt.show()"
      ],
      "outputs": [
        {
          "output_type": "stream",
          "name": "stdout",
          "text": [
            "              precision    recall  f1-score   support\n",
            "\n",
            "           0       0.94      0.83      0.88        77\n",
            "           1       0.58      0.82      0.68        22\n",
            "\n",
            "    accuracy                           0.83        99\n",
            "   macro avg       0.76      0.82      0.78        99\n",
            "weighted avg       0.86      0.83      0.84        99\n",
            "\n"
          ]
        },
        {
          "output_type": "display_data",
          "data": {
            "text/plain": "<Figure size 432x432 with 1 Axes>",
            "text/html": "<img src=\"https://cdn.kesci.com/rt_upload/738F3C9A288D48CDB363B9355103B6D3/qieny6262l.png\">"
          },
          "metadata": {
            "needs_background": "light"
          }
        }
      ],
      "execution_count": 42,
      "metadata": {
        "id": "738F3C9A288D48CDB363B9355103B6D3",
        "jupyter": {},
        "tags": [],
        "slideshow": {
          "slide_type": "slide"
        },
        "trusted": true,
        "collapsed": false,
        "scrolled": false
      }
    },
    {
      "cell_type": "markdown",
      "source": [
        "AUC有了提升，但距离良好的模型效果依然有优化空间。"
      ],
      "metadata": {
        "id": "C5B657905B4D484FB70D84B0C180FF20",
        "jupyter": {},
        "tags": [],
        "slideshow": {
          "slide_type": "slide"
        },
        "trusted": true,
        "mdEditEnable": false
      }
    },
    {
      "cell_type": "markdown",
      "source": [
        "## 模型运用\n",
        "贷款状态为C的账户是尚没有出现违约且合同未到期的客户。这些贷款客户中有些人的违约可能性较高，需要业务人员重点关注。可以及早发现问题，及时处理，挽回损失。"
      ],
      "metadata": {
        "id": "26A76386E74C4F7D859C4A7139CDCE5E",
        "jupyter": {},
        "tags": [],
        "slideshow": {
          "slide_type": "slide"
        },
        "trusted": true,
        "mdEditEnable": false
      }
    },
    {
      "cell_type": "code",
      "source": [
        "data_predict[\"class\"] = clf.predict(data_predict[var])\n",
        "data_predict[\"违约预测\"] = data_predict[\"class\"].map({1:'会',0:'不会'})\n",
        "\n",
        "\n",
        "for_predict_accountid_loanid = data[data.index.isin(data_predict.index)][['loan_id','account_id']]\n",
        "predict_result = pd.merge(for_predict_accountid_loanid, data_predict, left_on = for_predict_accountid_loanid.index, right_on= data_predict.index, right_index = True, how='inner')\n",
        "\n",
        "class1 = predict_result[predict_result[\"class\"]==1][[\"account_id\",\"loan_id\",\"class\",\"违约预测\"]]\n",
        "class1_account = class1.account_id.unique()\n",
        "print('待定贷款共{}个,其中{}个贷款有违约可能，涉及到{}个账户。'.format(data_predict.shape[0], data_predict[data_predict['class']== 1].shape[0], len(class1_account)))"
      ],
      "outputs": [
        {
          "output_type": "stream",
          "name": "stdout",
          "text": [
            "待定贷款共493个,其中251个贷款有违约可能，涉及到207个账户。\n"
          ]
        }
      ],
      "execution_count": 43,
      "metadata": {
        "id": "2236D4350B9B4C1AAD409668D09969C9",
        "jupyter": {},
        "tags": [],
        "slideshow": {
          "slide_type": "slide"
        },
        "trusted": true,
        "collapsed": false,
        "scrolled": false
      }
    }
  ],
  "metadata": {
    "kernelspec": {
      "name": "python3",
      "display_name": "Python 3",
      "language": "python"
    },
    "language_info": {
      "name": "python",
      "version": "3.6.4",
      "mimetype": "text/x-python",
      "codemirror_mode": {
        "name": "ipython",
        "version": 3
      },
      "pygments_lexer": "ipython3",
      "nbconvert_exporter": "python",
      "file_extension": ".py"
    },
    "nteract": {
      "version": "0.25.1"
    }
  },
  "nbformat": 4,
  "nbformat_minor": 0
}